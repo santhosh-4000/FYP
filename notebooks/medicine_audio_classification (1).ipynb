{
  "cells": [
    {
      "cell_type": "markdown",
      "metadata": {
        "id": "l42vavH4p9wp"
      },
      "source": [
        "## Install libraries"
      ]
    },
    {
      "cell_type": "code",
      "execution_count": null,
      "metadata": {
        "id": "eKRBu7dCpXU0"
      },
      "outputs": [],
      "source": [
        "!pip install -q datasets[audio]\n",
        "!pip install -q 'torchaudio<0.12.0'"
      ]
    },
    {
      "cell_type": "code",
      "execution_count": null,
      "metadata": {
        "id": "qhMBn69EhFyv"
      },
      "outputs": [],
      "source": [
        "!pip install -q transformers"
      ]
    },
    {
      "cell_type": "code",
      "execution_count": null,
      "metadata": {
        "colab": {
          "referenced_widgets": [
            "b3d5c55b5ebd4b79a473a721b22814a3",
            "d30a18b62c3841819d7ae575ccecff8a",
            "df37d293a8684d51a0607dd9a0f95453",
            "a176d2b1131041c486bad4d892b959cf",
            "4b447154a7044419a2b2933d0208eae3",
            "e459818c78e646ab98a06110790caabf",
            "8136b544c2854512ad4b2d4304649977",
            "92f6d3213e0e42f18e33d4e712806531",
            "3bed7b7c3a034f18ab22986cecfde594",
            "7a211ea4c0884f65a42ad9d98d0034fa",
            "13fa8305c5434be39c288b0aabdc4eac",
            "fb0a6a806ebb4db4a73c00235df31204",
            "bd61ef00dea34cfebb3192e1e619428d",
            "4e6831ba2427462aaeb70b09fadca47c",
            "419ce2e8e37640638b70caaa7512c4be",
            "9cce24e109ad4b7f8c75120eb338edb8",
            "11c79b4b56a24a3992ba475bc8327908"
          ],
          "base_uri": "https://localhost:8080/",
          "height": 332
        },
        "id": "4Jh80FayPWZo",
        "outputId": "018036c6-22a7-456d-94e8-e5dd4ab1ec78"
      },
      "outputs": [
        {
          "output_type": "display_data",
          "data": {
            "text/plain": [
              "VBox(children=(HTML(value='<center> <img\\nsrc=https://huggingface.co/front/assets/huggingface_logo-noborder.sv…"
            ],
            "application/vnd.jupyter.widget-view+json": {
              "version_major": 2,
              "version_minor": 0,
              "model_id": "b3d5c55b5ebd4b79a473a721b22814a3"
            }
          },
          "metadata": {}
        }
      ],
      "source": [
        "from huggingface_hub import notebook_login\n",
        "\n",
        "notebook_login()"
      ]
    },
    {
      "cell_type": "code",
      "execution_count": null,
      "metadata": {
        "id": "8YOQ1t8eQEtZ",
        "colab": {
          "base_uri": "https://localhost:8080/"
        },
        "outputId": "a569e531-6cf1-4b50-cf02-53048ec40cac"
      },
      "outputs": [
        {
          "output_type": "stream",
          "name": "stdout",
          "text": [
            "Reading package lists... Done\n",
            "Building dependency tree       \n",
            "Reading state information... Done\n",
            "git-lfs is already the newest version (2.9.2-1).\n",
            "0 upgraded, 0 newly installed, 0 to remove and 24 not upgraded.\n"
          ]
        }
      ],
      "source": [
        "!apt install git-lfs"
      ]
    },
    {
      "cell_type": "code",
      "execution_count": null,
      "metadata": {
        "id": "ztZR5U3Qp4TM"
      },
      "outputs": [],
      "source": [
        "model_checkpoint = \"facebook/wav2vec2-base\"\n",
        "batch_size = 5\n",
        "num_classes = 10\n",
        "class_names = ['Tylenol', 'Advil', 'Bayer', 'Aleve', 'Panadol', 'Voltaren', 'Ponstel', 'Dolo', 'Indocin', 'Pyridium']\n",
        "max_duration = 20.0 # not seconds actually"
      ]
    },
    {
      "cell_type": "markdown",
      "metadata": {
        "id": "xo3Og7qlqCrd"
      },
      "source": [
        "## Load dataset"
      ]
    },
    {
      "cell_type": "code",
      "execution_count": null,
      "metadata": {
        "id": "TNlT8nCeoJai"
      },
      "outputs": [],
      "source": [
        "from datasets import load_dataset\n",
        "from datasets import load_metric"
      ]
    },
    {
      "cell_type": "code",
      "execution_count": null,
      "metadata": {
        "colab": {
          "base_uri": "https://localhost:8080/",
          "height": 86,
          "referenced_widgets": [
            "6806b011382c48e5bdef911c22c047d3",
            "3754917ba3f4487f892788b8945f3ec1",
            "34b326bb2da542b2bb98257779ec939c",
            "21d2948a7d2a4d26a1bb41b600f666ef",
            "02f6f7d89e904784812906390ea8c16b",
            "27864aa1f39d45a68d6ce5238872e2eb",
            "264ade3367474e8aadece119d242c58b",
            "26d2b0a9725d48fdbe03465683849607",
            "895c03766bf0408d8e27d1eac2d36d4f",
            "8cdde59361de43158329229c8c04d81c",
            "3d30ef27514a45c1b272479467da2479"
          ]
        },
        "id": "VA2A9BFjrZj3",
        "outputId": "984cc763-01d2-42fa-a9c3-92803fa4371c"
      },
      "outputs": [
        {
          "output_type": "display_data",
          "data": {
            "text/plain": [
              "Resolving data files:   0%|          | 0/901 [00:00<?, ?it/s]"
            ],
            "application/vnd.jupyter.widget-view+json": {
              "version_major": 2,
              "version_minor": 0,
              "model_id": "6806b011382c48e5bdef911c22c047d3"
            }
          },
          "metadata": {}
        },
        {
          "output_type": "stream",
          "name": "stderr",
          "text": [
            "WARNING:datasets.builder:Found cached dataset audiofolder (/root/.cache/huggingface/datasets/audiofolder/default-78190304c9a00598/0.0.0/6cbdd16f8688354c63b4e2a36e1585d05de285023ee6443ffd71c4182055c0fc)\n"
          ]
        }
      ],
      "source": [
        "metric = load_metric(\"accuracy\")\n",
        "dataset = load_dataset(\"audiofolder\", data_dir=\"/content/drive/MyDrive/Dataset/fyp_dataset_final\", split=\"train\")"
      ]
    },
    {
      "cell_type": "code",
      "execution_count": null,
      "metadata": {
        "id": "izty0uokOXeG",
        "colab": {
          "base_uri": "https://localhost:8080/"
        },
        "outputId": "5a53b507-adb6-42ce-a7e5-44429eb39b56"
      },
      "outputs": [
        {
          "output_type": "execute_result",
          "data": {
            "text/plain": [
              "Dataset({\n",
              "    features: ['audio', 'label'],\n",
              "    num_rows: 900\n",
              "})"
            ]
          },
          "metadata": {},
          "execution_count": 73
        }
      ],
      "source": [
        "dataset"
      ]
    },
    {
      "cell_type": "code",
      "execution_count": null,
      "metadata": {
        "id": "Rpsfva-4OuJ7",
        "colab": {
          "base_uri": "https://localhost:8080/"
        },
        "outputId": "0a5ea41c-4a52-4ddb-cab0-a2e6f74f8550"
      },
      "outputs": [
        {
          "output_type": "execute_result",
          "data": {
            "text/plain": [
              "{'audio': Audio(sampling_rate=None, mono=True, decode=True, id=None),\n",
              " 'label': Value(dtype='string', id=None)}"
            ]
          },
          "metadata": {},
          "execution_count": 74
        }
      ],
      "source": [
        "dataset.features"
      ]
    },
    {
      "cell_type": "code",
      "execution_count": null,
      "metadata": {
        "id": "Vjbqj3e9Tj8B",
        "colab": {
          "base_uri": "https://localhost:8080/"
        },
        "outputId": "d879ae82-eb3c-4418-c07b-201b2566791f"
      },
      "outputs": [
        {
          "output_type": "stream",
          "name": "stderr",
          "text": [
            "WARNING:datasets.arrow_dataset:Loading cached processed dataset at /root/.cache/huggingface/datasets/audiofolder/default-78190304c9a00598/0.0.0/6cbdd16f8688354c63b4e2a36e1585d05de285023ee6443ffd71c4182055c0fc/cache-98f182cecda67891.arrow\n"
          ]
        }
      ],
      "source": [
        "from datasets import ClassLabel\n",
        "medicine_classlabel = ClassLabel(num_classes = num_classes,names = class_names)\n",
        "dataset = dataset.cast_column(\"label\", medicine_classlabel)"
      ]
    },
    {
      "cell_type": "code",
      "execution_count": null,
      "metadata": {
        "id": "5W_HMMwuUgfO",
        "colab": {
          "base_uri": "https://localhost:8080/"
        },
        "outputId": "52f229c0-5f17-409f-c671-6adb62bcde0d"
      },
      "outputs": [
        {
          "output_type": "execute_result",
          "data": {
            "text/plain": [
              "[1, 1, 1, 1, 1, 1, 1, 1, 1, 1]"
            ]
          },
          "metadata": {},
          "execution_count": 76
        }
      ],
      "source": [
        "dataset['label'][0:10]"
      ]
    },
    {
      "cell_type": "code",
      "execution_count": null,
      "metadata": {
        "id": "0kGc8JKlOMpK",
        "colab": {
          "base_uri": "https://localhost:8080/"
        },
        "outputId": "5da55844-b64e-4438-e256-42b03c99cde0"
      },
      "outputs": [
        {
          "output_type": "stream",
          "name": "stderr",
          "text": [
            "WARNING:datasets.arrow_dataset:Loading cached split indices for dataset at /root/.cache/huggingface/datasets/audiofolder/default-78190304c9a00598/0.0.0/6cbdd16f8688354c63b4e2a36e1585d05de285023ee6443ffd71c4182055c0fc/cache-7dacf23b932fc981.arrow and /root/.cache/huggingface/datasets/audiofolder/default-78190304c9a00598/0.0.0/6cbdd16f8688354c63b4e2a36e1585d05de285023ee6443ffd71c4182055c0fc/cache-15ebdded22a604a1.arrow\n"
          ]
        }
      ],
      "source": [
        "dataset = dataset.train_test_split(test_size=0.2, stratify_by_column=\"label\", seed=42)"
      ]
    },
    {
      "cell_type": "code",
      "execution_count": null,
      "metadata": {
        "id": "QypGtY6KUysF",
        "colab": {
          "base_uri": "https://localhost:8080/"
        },
        "outputId": "6fc3b5de-e67b-457e-95d3-7a843bd6c2d9"
      },
      "outputs": [
        {
          "output_type": "execute_result",
          "data": {
            "text/plain": [
              "DatasetDict({\n",
              "    train: Dataset({\n",
              "        features: ['audio', 'label'],\n",
              "        num_rows: 720\n",
              "    })\n",
              "    test: Dataset({\n",
              "        features: ['audio', 'label'],\n",
              "        num_rows: 180\n",
              "    })\n",
              "})"
            ]
          },
          "metadata": {},
          "execution_count": 78
        }
      ],
      "source": [
        "dataset"
      ]
    },
    {
      "cell_type": "code",
      "execution_count": null,
      "metadata": {
        "id": "TzyFUY6kqekH",
        "colab": {
          "base_uri": "https://localhost:8080/"
        },
        "outputId": "6a18ab04-57c5-4f74-f8b2-6b03fb9591a7"
      },
      "outputs": [
        {
          "output_type": "execute_result",
          "data": {
            "text/plain": [
              "Dataset({\n",
              "    features: ['audio', 'label'],\n",
              "    num_rows: 720\n",
              "})"
            ]
          },
          "metadata": {},
          "execution_count": 79
        }
      ],
      "source": [
        "dataset['train']"
      ]
    },
    {
      "cell_type": "code",
      "execution_count": null,
      "metadata": {
        "id": "eBPbOF6tANRc",
        "colab": {
          "base_uri": "https://localhost:8080/"
        },
        "outputId": "cfd5a589-8bfc-48ad-935d-8efca563b9d8"
      },
      "outputs": [
        {
          "output_type": "execute_result",
          "data": {
            "text/plain": [
              "{'audio': {'path': '/content/drive/MyDrive/Dataset/fyp_dataset_final/train/Indocin_73.wav',\n",
              "  'array': array([-0.00042725, -0.00048828, -0.00064087, ..., -0.00042725,\n",
              "         -0.0005188 , -0.00061035]),\n",
              "  'sampling_rate': 22050},\n",
              " 'label': 8}"
            ]
          },
          "metadata": {},
          "execution_count": 80
        }
      ],
      "source": [
        "dataset['train'][0]"
      ]
    },
    {
      "cell_type": "code",
      "execution_count": null,
      "metadata": {
        "id": "cEFyhLgaU7SO",
        "colab": {
          "base_uri": "https://localhost:8080/",
          "height": 36
        },
        "outputId": "4283e457-6600-441a-c944-494dd2d1c26c"
      },
      "outputs": [
        {
          "output_type": "execute_result",
          "data": {
            "text/plain": [
              "'Pyridium'"
            ],
            "application/vnd.google.colaboratory.intrinsic+json": {
              "type": "string"
            }
          },
          "metadata": {},
          "execution_count": 81
        }
      ],
      "source": [
        "label2id, id2label = dict(), dict()\n",
        "for i, label in enumerate(class_names):\n",
        "    label2id[label] = str(i)\n",
        "    id2label[str(i)] = label\n",
        "\n",
        "id2label[\"9\"]"
      ]
    },
    {
      "cell_type": "markdown",
      "metadata": {
        "id": "ej_ggv8zAnrm"
      },
      "source": [
        "Listen to sample audios"
      ]
    },
    {
      "cell_type": "code",
      "execution_count": null,
      "metadata": {
        "id": "UOHqNW8pAnbJ",
        "colab": {
          "base_uri": "https://localhost:8080/",
          "height": 571
        },
        "outputId": "516f922b-d59f-49e2-c154-4554073e7a59"
      },
      "outputs": [
        {
          "output_type": "stream",
          "name": "stdout",
          "text": [
            "Label: 3\n",
            "Shape: (15435,), sampling rate: 22050\n"
          ]
        },
        {
          "output_type": "display_data",
          "data": {
            "text/plain": [
              "<IPython.lib.display.Audio object>"
            ],
            "text/html": [
              "\n",
              "                <audio  controls=\"controls\" >\n",
              "                    <source src=\"data:audio/wav;base64,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\" type=\"audio/wav\" />\n",
              "                    Your browser does not support the audio element.\n",
              "                </audio>\n",
              "              "
            ]
          },
          "metadata": {}
        },
        {
          "output_type": "stream",
          "name": "stdout",
          "text": [
            "\n",
            "Label: 0\n",
            "Shape: (28665,), sampling rate: 22050\n"
          ]
        },
        {
          "output_type": "display_data",
          "data": {
            "text/plain": [
              "<IPython.lib.display.Audio object>"
            ],
            "text/html": [
              "\n",
              "                <audio  controls=\"controls\" >\n",
              "                    <source src=\"data:audio/wav;base64,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\" type=\"audio/wav\" />\n",
              "                    Your browser does not support the audio element.\n",
              "                </audio>\n",
              "              "
            ]
          },
          "metadata": {}
        },
        {
          "output_type": "stream",
          "name": "stdout",
          "text": [
            "\n",
            "Label: 3\n",
            "Shape: (24255,), sampling rate: 22050\n"
          ]
        },
        {
          "output_type": "display_data",
          "data": {
            "text/plain": [
              "<IPython.lib.display.Audio object>"
            ],
            "text/html": [
              "\n",
              "                <audio  controls=\"controls\" >\n",
              "                    <source src=\"data:audio/wav;base64,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\" type=\"audio/wav\" />\n",
              "                    Your browser does not support the audio element.\n",
              "                </audio>\n",
              "              "
            ]
          },
          "metadata": {}
        },
        {
          "output_type": "stream",
          "name": "stdout",
          "text": [
            "\n",
            "Label: 8\n",
            "Shape: (26460,), sampling rate: 22050\n"
          ]
        },
        {
          "output_type": "display_data",
          "data": {
            "text/plain": [
              "<IPython.lib.display.Audio object>"
            ],
            "text/html": [
              "\n",
              "                <audio  controls=\"controls\" >\n",
              "                    <source src=\"data:audio/wav;base64,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\" type=\"audio/wav\" />\n",
              "                    Your browser does not support the audio element.\n",
              "                </audio>\n",
              "              "
            ]
          },
          "metadata": {}
        },
        {
          "output_type": "stream",
          "name": "stdout",
          "text": [
            "\n",
            "Label: 3\n",
            "Shape: (22050,), sampling rate: 22050\n"
          ]
        },
        {
          "output_type": "display_data",
          "data": {
            "text/plain": [
              "<IPython.lib.display.Audio object>"
            ],
            "text/html": [
              "\n",
              "                <audio  controls=\"controls\" >\n",
              "                    <source src=\"data:audio/wav;base64,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\" type=\"audio/wav\" />\n",
              "                    Your browser does not support the audio element.\n",
              "                </audio>\n",
              "              "
            ]
          },
          "metadata": {}
        },
        {
          "output_type": "stream",
          "name": "stdout",
          "text": [
            "\n"
          ]
        }
      ],
      "source": [
        "import random\n",
        "from IPython.display import Audio, display\n",
        "\n",
        "for _ in range(5):\n",
        "    rand_idx = random.randint(0, len(dataset[\"train\"])-1)\n",
        "    example = dataset[\"train\"][rand_idx]\n",
        "    audio = example[\"audio\"]\n",
        "\n",
        "    print(f'Label: {example[\"label\"]}')\n",
        "    print(f'Shape: {audio[\"array\"].shape}, sampling rate: {audio[\"sampling_rate\"]}')\n",
        "    display(Audio(audio[\"array\"], rate=audio[\"sampling_rate\"]))\n",
        "    print()"
      ]
    },
    {
      "cell_type": "code",
      "execution_count": null,
      "metadata": {
        "id": "TAP4Ug37gfAY",
        "colab": {
          "base_uri": "https://localhost:8080/"
        },
        "outputId": "279f81a5-ff6a-448e-b56f-18ed763f83a9"
      },
      "outputs": [
        {
          "output_type": "execute_result",
          "data": {
            "text/plain": [
              "{'path': '/content/drive/MyDrive/Dataset/fyp_dataset_final/train/Pyridium_2.wav',\n",
              " 'array': array([ 0.00000000e+00,  0.00000000e+00,  0.00000000e+00, ...,\n",
              "         0.00000000e+00, -1.52587891e-05,  1.52587891e-05]),\n",
              " 'sampling_rate': 44100}"
            ]
          },
          "metadata": {},
          "execution_count": 83
        }
      ],
      "source": [
        "dataset[\"test\"][5][\"audio\"]"
      ]
    },
    {
      "cell_type": "markdown",
      "metadata": {
        "id": "si77iA4jg68s"
      },
      "source": [
        "## Preprocess the data"
      ]
    },
    {
      "cell_type": "code",
      "execution_count": null,
      "metadata": {
        "id": "CIAgD44bg9wf",
        "colab": {
          "base_uri": "https://localhost:8080/"
        },
        "outputId": "76747b72-38e9-4f3b-e554-9d75ae72f474"
      },
      "outputs": [
        {
          "output_type": "stream",
          "name": "stderr",
          "text": [
            "/usr/local/lib/python3.9/dist-packages/transformers/configuration_utils.py:379: UserWarning: Passing `gradient_checkpointing` to a config initialization is deprecated and will be removed in v5 Transformers. Using `model.gradient_checkpointing_enable()` instead, or if you are using the `Trainer` API, pass `gradient_checkpointing=True` in your `TrainingArguments`.\n",
            "  warnings.warn(\n"
          ]
        },
        {
          "output_type": "execute_result",
          "data": {
            "text/plain": [
              "Wav2Vec2FeatureExtractor {\n",
              "  \"do_normalize\": true,\n",
              "  \"feature_extractor_type\": \"Wav2Vec2FeatureExtractor\",\n",
              "  \"feature_size\": 1,\n",
              "  \"padding_side\": \"right\",\n",
              "  \"padding_value\": 0.0,\n",
              "  \"return_attention_mask\": false,\n",
              "  \"sampling_rate\": 16000\n",
              "}"
            ]
          },
          "metadata": {},
          "execution_count": 84
        }
      ],
      "source": [
        "from transformers import AutoFeatureExtractor\n",
        "\n",
        "feature_extractor = AutoFeatureExtractor.from_pretrained(model_checkpoint)\n",
        "feature_extractor"
      ]
    },
    {
      "cell_type": "code",
      "execution_count": null,
      "metadata": {
        "id": "AN39fDmYhkdx"
      },
      "outputs": [],
      "source": [
        "def preprocess_function(examples):\n",
        "    audio_arrays = [x[\"array\"] for x in examples[\"audio\"]]\n",
        "    inputs = feature_extractor(\n",
        "        audio_arrays, \n",
        "        sampling_rate=feature_extractor.sampling_rate, \n",
        "        # max_length=int(feature_extractor.sampling_rate * max_duration), \n",
        "        # truncation=True, \n",
        "    )\n",
        "    return inputs"
      ]
    },
    {
      "cell_type": "code",
      "execution_count": null,
      "metadata": {
        "id": "2BZLJfUziZr-",
        "colab": {
          "base_uri": "https://localhost:8080/"
        },
        "outputId": "3cf2996e-a6f2-4498-f11f-d5b5e56abfd0"
      },
      "outputs": [
        {
          "output_type": "stream",
          "name": "stderr",
          "text": [
            "WARNING:datasets.arrow_dataset:Loading cached processed dataset at /root/.cache/huggingface/datasets/audiofolder/default-78190304c9a00598/0.0.0/6cbdd16f8688354c63b4e2a36e1585d05de285023ee6443ffd71c4182055c0fc/cache-44d97217ac422cc3.arrow\n",
            "WARNING:datasets.arrow_dataset:Loading cached processed dataset at /root/.cache/huggingface/datasets/audiofolder/default-78190304c9a00598/0.0.0/6cbdd16f8688354c63b4e2a36e1585d05de285023ee6443ffd71c4182055c0fc/cache-beed0f94a7419c66.arrow\n"
          ]
        },
        {
          "output_type": "execute_result",
          "data": {
            "text/plain": [
              "DatasetDict({\n",
              "    train: Dataset({\n",
              "        features: ['label', 'input_values'],\n",
              "        num_rows: 720\n",
              "    })\n",
              "    test: Dataset({\n",
              "        features: ['label', 'input_values'],\n",
              "        num_rows: 180\n",
              "    })\n",
              "})"
            ]
          },
          "metadata": {},
          "execution_count": 86
        }
      ],
      "source": [
        "encoded_dataset = dataset.map(preprocess_function, remove_columns=[\"audio\"], batched=True)\n",
        "encoded_dataset"
      ]
    },
    {
      "cell_type": "markdown",
      "metadata": {
        "id": "CXmCbMIPitmF"
      },
      "source": [
        "## Training the model"
      ]
    },
    {
      "cell_type": "code",
      "execution_count": null,
      "metadata": {
        "id": "kOLljIUpiwfH",
        "colab": {
          "base_uri": "https://localhost:8080/"
        },
        "outputId": "bb6f5833-2b07-4fa6-a1d8-a5694f514671"
      },
      "outputs": [
        {
          "output_type": "stream",
          "name": "stderr",
          "text": [
            "Some weights of the model checkpoint at facebook/wav2vec2-base were not used when initializing Wav2Vec2ForSequenceClassification: ['quantizer.weight_proj.weight', 'quantizer.codevectors', 'project_hid.bias', 'project_q.weight', 'project_hid.weight', 'quantizer.weight_proj.bias', 'project_q.bias']\n",
            "- This IS expected if you are initializing Wav2Vec2ForSequenceClassification from the checkpoint of a model trained on another task or with another architecture (e.g. initializing a BertForSequenceClassification model from a BertForPreTraining model).\n",
            "- This IS NOT expected if you are initializing Wav2Vec2ForSequenceClassification from the checkpoint of a model that you expect to be exactly identical (initializing a BertForSequenceClassification model from a BertForSequenceClassification model).\n",
            "Some weights of Wav2Vec2ForSequenceClassification were not initialized from the model checkpoint at facebook/wav2vec2-base and are newly initialized: ['classifier.weight', 'projector.bias', 'classifier.bias', 'projector.weight']\n",
            "You should probably TRAIN this model on a down-stream task to be able to use it for predictions and inference.\n"
          ]
        }
      ],
      "source": [
        "from transformers import AutoModelForAudioClassification, TrainingArguments, Trainer\n",
        "\n",
        "model = AutoModelForAudioClassification.from_pretrained(\n",
        "    model_checkpoint, \n",
        "    num_labels=num_classes,\n",
        "    label2id=label2id,\n",
        "    id2label=id2label,\n",
        ")"
      ]
    },
    {
      "cell_type": "code",
      "execution_count": null,
      "metadata": {
        "id": "CyKUagMvjmm1"
      },
      "outputs": [],
      "source": [
        "model_name = model_checkpoint.split(\"/\")[-1]\n",
        "\n",
        "args = TrainingArguments(\n",
        "    f\"{model_name}-finetuned-mednames\",\n",
        "    evaluation_strategy = \"epoch\",\n",
        "    save_strategy = \"epoch\",\n",
        "    learning_rate=3e-5,\n",
        "    per_device_train_batch_size=batch_size,\n",
        "    gradient_accumulation_steps=4,\n",
        "    per_device_eval_batch_size=batch_size,\n",
        "    num_train_epochs=30,\n",
        "    warmup_ratio=0.1,\n",
        "    logging_steps=5,\n",
        "    load_best_model_at_end=True,\n",
        "    metric_for_best_model=\"accuracy\",\n",
        "    push_to_hub=True,\n",
        ")"
      ]
    },
    {
      "cell_type": "code",
      "execution_count": null,
      "metadata": {
        "id": "Je_S6KpVkpi8"
      },
      "outputs": [],
      "source": [
        "import numpy as np\n",
        "\n",
        "def compute_metrics(eval_pred):\n",
        "    \"\"\"Computes accuracy on a batch of predictions\"\"\"\n",
        "    predictions = np.argmax(eval_pred.predictions, axis=1)\n",
        "    return metric.compute(predictions=predictions, references=eval_pred.label_ids)"
      ]
    },
    {
      "cell_type": "code",
      "execution_count": null,
      "metadata": {
        "id": "g_lrHbQPlEU3",
        "colab": {
          "base_uri": "https://localhost:8080/"
        },
        "outputId": "8ca5e642-d67b-4679-920b-ee961084968e"
      },
      "outputs": [
        {
          "output_type": "stream",
          "name": "stderr",
          "text": [
            "/content/wav2vec2-base-finetuned-mednames is already a clone of https://huggingface.co/santhosh-4000/wav2vec2-base-finetuned-mednames. Make sure you pull the latest changes with `repo.git_pull()`.\n",
            "WARNING:huggingface_hub.repository:/content/wav2vec2-base-finetuned-mednames is already a clone of https://huggingface.co/santhosh-4000/wav2vec2-base-finetuned-mednames. Make sure you pull the latest changes with `repo.git_pull()`.\n"
          ]
        }
      ],
      "source": [
        "trainer = Trainer(\n",
        "    model,\n",
        "    args,\n",
        "    train_dataset=encoded_dataset[\"train\"],\n",
        "    eval_dataset=encoded_dataset[\"test\"],\n",
        "    tokenizer=feature_extractor,\n",
        "    compute_metrics=compute_metrics\n",
        ")"
      ]
    },
    {
      "cell_type": "code",
      "execution_count": null,
      "metadata": {
        "id": "WpBV5yvflNln",
        "colab": {
          "base_uri": "https://localhost:8080/",
          "height": 1000
        },
        "outputId": "a4d87670-1c31-47f0-ea60-fe110111daec"
      },
      "outputs": [
        {
          "metadata": {
            "tags": null
          },
          "name": "stderr",
          "output_type": "stream",
          "text": [
            "/usr/local/lib/python3.9/dist-packages/transformers/optimization.py:391: FutureWarning: This implementation of AdamW is deprecated and will be removed in a future version. Use the PyTorch implementation torch.optim.AdamW instead, or set `no_deprecation_warning=True` to disable this warning\n",
            "  warnings.warn(\n"
          ]
        },
        {
          "data": {
            "text/html": [
              "\n",
              "    <div>\n",
              "      \n",
              "      <progress value='670' max='1080' style='width:300px; height:20px; vertical-align: middle;'></progress>\n",
              "      [ 670/1080 29:47 < 18:17, 0.37 it/s, Epoch 18.58/30]\n",
              "    </div>\n",
              "    <table border=\"1\" class=\"dataframe\">\n",
              "  <thead>\n",
              " <tr style=\"text-align: left;\">\n",
              "      <th>Epoch</th>\n",
              "      <th>Training Loss</th>\n",
              "      <th>Validation Loss</th>\n",
              "      <th>Accuracy</th>\n",
              "    </tr>\n",
              "  </thead>\n",
              "  <tbody>\n",
              "    <tr>\n",
              "      <td>1</td>\n",
              "      <td>2.278900</td>\n",
              "      <td>2.263930</td>\n",
              "      <td>0.222222</td>\n",
              "    </tr>\n",
              "    <tr>\n",
              "      <td>2</td>\n",
              "      <td>2.192500</td>\n",
              "      <td>2.140448</td>\n",
              "      <td>0.383333</td>\n",
              "    </tr>\n",
              "    <tr>\n",
              "      <td>3</td>\n",
              "      <td>1.876300</td>\n",
              "      <td>1.760662</td>\n",
              "      <td>0.555556</td>\n",
              "    </tr>\n",
              "    <tr>\n",
              "      <td>4</td>\n",
              "      <td>1.503500</td>\n",
              "      <td>1.359893</td>\n",
              "      <td>0.766667</td>\n",
              "    </tr>\n",
              "    <tr>\n",
              "      <td>5</td>\n",
              "      <td>1.059800</td>\n",
              "      <td>0.960663</td>\n",
              "      <td>0.877778</td>\n",
              "    </tr>\n",
              "    <tr>\n",
              "      <td>6</td>\n",
              "      <td>0.830300</td>\n",
              "      <td>0.732677</td>\n",
              "      <td>0.872222</td>\n",
              "    </tr>\n",
              "    <tr>\n",
              "      <td>7</td>\n",
              "      <td>0.641800</td>\n",
              "      <td>0.554422</td>\n",
              "      <td>0.877778</td>\n",
              "    </tr>\n",
              "    <tr>\n",
              "      <td>8</td>\n",
              "      <td>0.448100</td>\n",
              "      <td>0.437669</td>\n",
              "      <td>0.972222</td>\n",
              "    </tr>\n",
              "    <tr>\n",
              "      <td>9</td>\n",
              "      <td>0.343800</td>\n",
              "      <td>0.296252</td>\n",
              "      <td>0.983333</td>\n",
              "    </tr>\n",
              "    <tr>\n",
              "      <td>10</td>\n",
              "      <td>0.183100</td>\n",
              "      <td>0.144250</td>\n",
              "      <td>1.000000</td>\n",
              "    </tr>\n",
              "    <tr>\n",
              "      <td>11</td>\n",
              "      <td>0.112900</td>\n",
              "      <td>0.089049</td>\n",
              "      <td>1.000000</td>\n",
              "    </tr>\n",
              "    <tr>\n",
              "      <td>12</td>\n",
              "      <td>0.087700</td>\n",
              "      <td>0.066444</td>\n",
              "      <td>1.000000</td>\n",
              "    </tr>\n",
              "    <tr>\n",
              "      <td>13</td>\n",
              "      <td>0.065700</td>\n",
              "      <td>0.050890</td>\n",
              "      <td>1.000000</td>\n",
              "    </tr>\n",
              "    <tr>\n",
              "      <td>14</td>\n",
              "      <td>0.052800</td>\n",
              "      <td>0.040580</td>\n",
              "      <td>1.000000</td>\n",
              "    </tr>\n",
              "    <tr>\n",
              "      <td>15</td>\n",
              "      <td>0.042800</td>\n",
              "      <td>0.038765</td>\n",
              "      <td>1.000000</td>\n",
              "    </tr>\n",
              "    <tr>\n",
              "      <td>16</td>\n",
              "      <td>0.036900</td>\n",
              "      <td>0.052604</td>\n",
              "      <td>0.994444</td>\n",
              "    </tr>\n",
              "    <tr>\n",
              "      <td>17</td>\n",
              "      <td>0.085800</td>\n",
              "      <td>0.053918</td>\n",
              "      <td>0.994444</td>\n",
              "    </tr>\n",
              "    <tr>\n",
              "      <td>18</td>\n",
              "      <td>0.029400</td>\n",
              "      <td>0.023149</td>\n",
              "      <td>1.000000</td>\n",
              "    </tr>\n",
              "  </tbody>\n",
              "</table><p>"
            ],
            "text/plain": [
              "<IPython.core.display.HTML object>"
            ]
          },
          "metadata": {},
          "output_type": "display_data"
        },
        {
          "output_type": "display_data",
          "data": {
            "text/plain": [
              "<IPython.core.display.HTML object>"
            ],
            "text/html": [
              "\n",
              "    <div>\n",
              "      \n",
              "      <progress value='1080' max='1080' style='width:300px; height:20px; vertical-align: middle;'></progress>\n",
              "      [1080/1080 48:26, Epoch 30/30]\n",
              "    </div>\n",
              "    <table border=\"1\" class=\"dataframe\">\n",
              "  <thead>\n",
              " <tr style=\"text-align: left;\">\n",
              "      <th>Epoch</th>\n",
              "      <th>Training Loss</th>\n",
              "      <th>Validation Loss</th>\n",
              "      <th>Accuracy</th>\n",
              "    </tr>\n",
              "  </thead>\n",
              "  <tbody>\n",
              "    <tr>\n",
              "      <td>1</td>\n",
              "      <td>2.278900</td>\n",
              "      <td>2.263930</td>\n",
              "      <td>0.222222</td>\n",
              "    </tr>\n",
              "    <tr>\n",
              "      <td>2</td>\n",
              "      <td>2.192500</td>\n",
              "      <td>2.140448</td>\n",
              "      <td>0.383333</td>\n",
              "    </tr>\n",
              "    <tr>\n",
              "      <td>3</td>\n",
              "      <td>1.876300</td>\n",
              "      <td>1.760662</td>\n",
              "      <td>0.555556</td>\n",
              "    </tr>\n",
              "    <tr>\n",
              "      <td>4</td>\n",
              "      <td>1.503500</td>\n",
              "      <td>1.359893</td>\n",
              "      <td>0.766667</td>\n",
              "    </tr>\n",
              "    <tr>\n",
              "      <td>5</td>\n",
              "      <td>1.059800</td>\n",
              "      <td>0.960663</td>\n",
              "      <td>0.877778</td>\n",
              "    </tr>\n",
              "    <tr>\n",
              "      <td>6</td>\n",
              "      <td>0.830300</td>\n",
              "      <td>0.732677</td>\n",
              "      <td>0.872222</td>\n",
              "    </tr>\n",
              "    <tr>\n",
              "      <td>7</td>\n",
              "      <td>0.641800</td>\n",
              "      <td>0.554422</td>\n",
              "      <td>0.877778</td>\n",
              "    </tr>\n",
              "    <tr>\n",
              "      <td>8</td>\n",
              "      <td>0.448100</td>\n",
              "      <td>0.437669</td>\n",
              "      <td>0.972222</td>\n",
              "    </tr>\n",
              "    <tr>\n",
              "      <td>9</td>\n",
              "      <td>0.343800</td>\n",
              "      <td>0.296252</td>\n",
              "      <td>0.983333</td>\n",
              "    </tr>\n",
              "    <tr>\n",
              "      <td>10</td>\n",
              "      <td>0.183100</td>\n",
              "      <td>0.144250</td>\n",
              "      <td>1.000000</td>\n",
              "    </tr>\n",
              "    <tr>\n",
              "      <td>11</td>\n",
              "      <td>0.112900</td>\n",
              "      <td>0.089049</td>\n",
              "      <td>1.000000</td>\n",
              "    </tr>\n",
              "    <tr>\n",
              "      <td>12</td>\n",
              "      <td>0.087700</td>\n",
              "      <td>0.066444</td>\n",
              "      <td>1.000000</td>\n",
              "    </tr>\n",
              "    <tr>\n",
              "      <td>13</td>\n",
              "      <td>0.065700</td>\n",
              "      <td>0.050890</td>\n",
              "      <td>1.000000</td>\n",
              "    </tr>\n",
              "    <tr>\n",
              "      <td>14</td>\n",
              "      <td>0.052800</td>\n",
              "      <td>0.040580</td>\n",
              "      <td>1.000000</td>\n",
              "    </tr>\n",
              "    <tr>\n",
              "      <td>15</td>\n",
              "      <td>0.042800</td>\n",
              "      <td>0.038765</td>\n",
              "      <td>1.000000</td>\n",
              "    </tr>\n",
              "    <tr>\n",
              "      <td>16</td>\n",
              "      <td>0.036900</td>\n",
              "      <td>0.052604</td>\n",
              "      <td>0.994444</td>\n",
              "    </tr>\n",
              "    <tr>\n",
              "      <td>17</td>\n",
              "      <td>0.085800</td>\n",
              "      <td>0.053918</td>\n",
              "      <td>0.994444</td>\n",
              "    </tr>\n",
              "    <tr>\n",
              "      <td>18</td>\n",
              "      <td>0.029400</td>\n",
              "      <td>0.023149</td>\n",
              "      <td>1.000000</td>\n",
              "    </tr>\n",
              "    <tr>\n",
              "      <td>19</td>\n",
              "      <td>0.027200</td>\n",
              "      <td>0.020394</td>\n",
              "      <td>1.000000</td>\n",
              "    </tr>\n",
              "    <tr>\n",
              "      <td>20</td>\n",
              "      <td>0.024700</td>\n",
              "      <td>0.018760</td>\n",
              "      <td>1.000000</td>\n",
              "    </tr>\n",
              "    <tr>\n",
              "      <td>21</td>\n",
              "      <td>0.022700</td>\n",
              "      <td>0.017195</td>\n",
              "      <td>1.000000</td>\n",
              "    </tr>\n",
              "    <tr>\n",
              "      <td>22</td>\n",
              "      <td>0.021100</td>\n",
              "      <td>0.016090</td>\n",
              "      <td>1.000000</td>\n",
              "    </tr>\n",
              "    <tr>\n",
              "      <td>23</td>\n",
              "      <td>0.019500</td>\n",
              "      <td>0.015163</td>\n",
              "      <td>1.000000</td>\n",
              "    </tr>\n",
              "    <tr>\n",
              "      <td>24</td>\n",
              "      <td>0.068400</td>\n",
              "      <td>0.014448</td>\n",
              "      <td>1.000000</td>\n",
              "    </tr>\n",
              "    <tr>\n",
              "      <td>25</td>\n",
              "      <td>0.017500</td>\n",
              "      <td>0.013866</td>\n",
              "      <td>1.000000</td>\n",
              "    </tr>\n",
              "    <tr>\n",
              "      <td>26</td>\n",
              "      <td>0.075600</td>\n",
              "      <td>0.013417</td>\n",
              "      <td>1.000000</td>\n",
              "    </tr>\n",
              "    <tr>\n",
              "      <td>27</td>\n",
              "      <td>0.017000</td>\n",
              "      <td>0.013055</td>\n",
              "      <td>1.000000</td>\n",
              "    </tr>\n",
              "    <tr>\n",
              "      <td>28</td>\n",
              "      <td>0.016300</td>\n",
              "      <td>0.012794</td>\n",
              "      <td>1.000000</td>\n",
              "    </tr>\n",
              "    <tr>\n",
              "      <td>29</td>\n",
              "      <td>0.015800</td>\n",
              "      <td>0.012647</td>\n",
              "      <td>1.000000</td>\n",
              "    </tr>\n",
              "    <tr>\n",
              "      <td>30</td>\n",
              "      <td>0.015900</td>\n",
              "      <td>0.012593</td>\n",
              "      <td>1.000000</td>\n",
              "    </tr>\n",
              "  </tbody>\n",
              "</table><p>"
            ]
          },
          "metadata": {}
        },
        {
          "output_type": "execute_result",
          "data": {
            "text/plain": [
              "TrainOutput(global_step=1080, training_loss=0.43183010043231423, metrics={'train_runtime': 2909.1982, 'train_samples_per_second': 7.425, 'train_steps_per_second': 0.371, 'total_flos': 5.7550747163293466e+17, 'train_loss': 0.43183010043231423, 'epoch': 30.0})"
            ]
          },
          "metadata": {},
          "execution_count": 91
        }
      ],
      "source": [
        "trainer.train()"
      ]
    },
    {
      "cell_type": "code",
      "execution_count": null,
      "metadata": {
        "id": "_gVbHZF-lkEO",
        "colab": {
          "base_uri": "https://localhost:8080/",
          "height": 141
        },
        "outputId": "0971cba2-1708-491e-e912-26a85fb6ad63"
      },
      "outputs": [
        {
          "output_type": "display_data",
          "data": {
            "text/plain": [
              "<IPython.core.display.HTML object>"
            ],
            "text/html": [
              "\n",
              "    <div>\n",
              "      \n",
              "      <progress value='36' max='36' style='width:300px; height:20px; vertical-align: middle;'></progress>\n",
              "      [36/36 00:04]\n",
              "    </div>\n",
              "    "
            ]
          },
          "metadata": {}
        },
        {
          "output_type": "execute_result",
          "data": {
            "text/plain": [
              "{'eval_loss': 0.14425045251846313,\n",
              " 'eval_accuracy': 1.0,\n",
              " 'eval_runtime': 4.5387,\n",
              " 'eval_samples_per_second': 39.659,\n",
              " 'eval_steps_per_second': 7.932,\n",
              " 'epoch': 30.0}"
            ]
          },
          "metadata": {},
          "execution_count": 92
        }
      ],
      "source": [
        "trainer.evaluate()"
      ]
    },
    {
      "cell_type": "code",
      "execution_count": null,
      "metadata": {
        "id": "rstPvBprpEh5",
        "colab": {
          "base_uri": "https://localhost:8080/",
          "height": 17
        },
        "outputId": "b2b00a81-1470-4ade-a980-6a7ad7e32a34"
      },
      "outputs": [
        {
          "output_type": "display_data",
          "data": {
            "text/plain": [
              "<IPython.core.display.HTML object>"
            ],
            "text/html": []
          },
          "metadata": {}
        }
      ],
      "source": [
        "predictions = np.argmax(trainer.predict(encoded_dataset[\"test\"]).predictions, axis=1)\n",
        "actual_labels = [id2label[str(x)] for x in dataset['test']['label']]\n",
        "prediction_labels = [id2label[str(x)] for x in predictions]\n",
        "transcriptions = prediction_labels"
      ]
    },
    {
      "cell_type": "code",
      "execution_count": null,
      "metadata": {
        "id": "80fj4gwB0ENL"
      },
      "outputs": [],
      "source": [
        "# print('predictions:', prediction_labels)\n",
        "# print('actual:', actual_labels)"
      ]
    },
    {
      "cell_type": "code",
      "execution_count": null,
      "metadata": {
        "id": "xHWVPHCQhWWn"
      },
      "outputs": [],
      "source": [
        "from wordcloud import WordCloud, STOPWORDS\n",
        "import matplotlib.pyplot as plt"
      ]
    },
    {
      "cell_type": "code",
      "execution_count": null,
      "metadata": {
        "id": "3bx-cJDFhXbv",
        "colab": {
          "base_uri": "https://localhost:8080/",
          "height": 122
        },
        "outputId": "ae3caf80-9644-418d-e97e-9a63d8ba6cf4"
      },
      "outputs": [
        {
          "output_type": "execute_result",
          "data": {
            "text/plain": [
              "'Bayer Dolo Tylenol Indocin Tylenol Pyridium Dolo Bayer Bayer Ponstel Pyridium Aleve Indocin Tylenol Tylenol Voltaren Tylenol Ponstel Ponstel Bayer Voltaren Pyridium Pyridium Voltaren Tylenol Indocin Panadol Voltaren Voltaren Voltaren Panadol Aleve Indocin Tylenol Ponstel Aleve Panadol Voltaren Pyridium Dolo Dolo Tylenol Aleve Aleve Dolo Pyridium Bayer Advil Ponstel Advil Bayer Advil Ponstel Pyridium Bayer Indocin Panadol Panadol Aleve Advil Bayer Ponstel Panadol Aleve Bayer Panadol Panadol Aleve Tylenol Pyridium Tylenol Aleve Tylenol Dolo Aleve Indocin Panadol Tylenol Indocin Voltaren Advil Aleve Aleve Voltaren Dolo Pyridium Bayer Voltaren Pyridium Panadol Tylenol Indocin Tylenol Bayer Indocin Tylenol Voltaren Ponstel Ponstel Dolo Dolo Ponstel Bayer Indocin Pyridium Ponstel Dolo Tylenol Voltaren Ponstel Dolo Dolo Dolo Advil Bayer Dolo Bayer Voltaren Indocin Tylenol Ponstel Panadol Voltaren Indocin Bayer Pyridium Pyridium Advil Advil Indocin Indocin Aleve Bayer Voltaren Panadol Pyridium Pyridium Ponstel Advil Advil Panadol Indocin Advil Dolo Panadol Advil Aleve Ponstel Aleve Panadol Indocin Ponstel Advil Voltaren Pyridium Indocin Voltaren Dolo Tylenol Panadol Pyridium Advil Bayer Panadol Dolo Advil Advil Bayer Aleve Advil Pyridium Aleve Voltaren Dolo Ponstel Ponstel Aleve Advil Panadol Indocin '"
            ],
            "application/vnd.google.colaboratory.intrinsic+json": {
              "type": "string"
            }
          },
          "metadata": {},
          "execution_count": 110
        }
      ],
      "source": [
        "stopwords = set(STOPWORDS)\n",
        "prediction_str = ''\n",
        "\n",
        "prediction_str += \" \".join(transcriptions)+\" \"\n",
        "prediction_str"
      ]
    },
    {
      "cell_type": "code",
      "execution_count": null,
      "metadata": {
        "id": "RBd3HMJ9h23g",
        "colab": {
          "base_uri": "https://localhost:8080/",
          "height": 559
        },
        "outputId": "c3f8f2ab-c70e-4fd6-af1a-13c23400cf42"
      },
      "outputs": [
        {
          "output_type": "display_data",
          "data": {
            "text/plain": [
              "<Figure size 800x500 with 1 Axes>"
            ],
            "image/png": "[encoded data removed]"
          },
          "metadata": {}
        }
      ],
      "source": [
        "wordcloud = WordCloud(width = 800, height = 500,\n",
        "                background_color ='white',\n",
        "                stopwords = stopwords,\n",
        "                min_font_size = 10).generate(prediction_str)\n",
        "\n",
        "plt.figure(figsize = (8, 5), facecolor = None)\n",
        "plt.imshow(wordcloud)\n",
        "plt.axis(\"off\")\n",
        "plt.tight_layout(pad = 0)\n",
        "plt.title('wav2vec2-finetuend-classifier predictions')\n",
        "plt.show()"
      ]
    },
    {
      "cell_type": "markdown",
      "metadata": {
        "id": "Wfugzy6ZM3gy"
      },
      "source": [
        "## upload best model to hub"
      ]
    },
    {
      "cell_type": "code",
      "execution_count": null,
      "metadata": {
        "id": "-wqhWgE0QLJg",
        "colab": {
          "base_uri": "https://localhost:8080/",
          "height": 377,
          "referenced_widgets": [
            "fe71352eb1c645cb9d0b963720966e25",
            "8287eccd56214b168cd481eb6b110811",
            "88a7dbd4c6eb4f8587bc1327c54886f6",
            "6bfd1f58bef7435690efdab9d789a0b0",
            "ed5b5228654a448a953303331570f45a",
            "3327ca4826484a28a20fb1cb3785221a",
            "59d7869d17fd4b4fb146d32c9f715752",
            "6804d3e87f25431dbd7a67d6d09ce4b9",
            "1b78848e516741bcbb265c68f188baf1",
            "ee8ec178d7b442d4b523c1c769bc44e2",
            "4127320ab6d0449da4d65d153f35d140",
            "65f0073800d249a7af01a361e3cf09a2",
            "ec44a4fe81264d099fa8744999f235c0",
            "3ca97d510b9f4953b60325c90c47167c",
            "c76b280cf8d341a187e947f651e993b3",
            "5c79aa4f62a74a98af922d4069865209",
            "346338473bac4cfeb18f9b7aed6ff1a4",
            "1590a7fd05384359916185c2fe40373c",
            "8cfdc44bd17847d4b2288af00fdbb3ad",
            "74321da4781543908022ba32236491a6",
            "970786b8263946a7859dc3ebdb528020",
            "56070c1a69874fa7a51a2d3de4a0908f"
          ]
        },
        "outputId": "7e27f7d0-cdfd-448c-a440-90330d6fafb4"
      },
      "outputs": [
        {
          "output_type": "stream",
          "name": "stderr",
          "text": [
            "Several commits (2) will be pushed upstream.\n",
            "WARNING:huggingface_hub.repository:Several commits (2) will be pushed upstream.\n",
            "The progress bars may be unreliable.\n",
            "WARNING:huggingface_hub.repository:The progress bars may be unreliable.\n"
          ]
        },
        {
          "output_type": "display_data",
          "data": {
            "text/plain": [
              "Upload file runs/Apr19_09-12-19_11ec4160ba19/events.out.tfevents.1681895546.11ec4160ba19.151.9:   0%|         …"
            ],
            "application/vnd.jupyter.widget-view+json": {
              "version_major": 2,
              "version_minor": 0,
              "model_id": "fe71352eb1c645cb9d0b963720966e25"
            }
          },
          "metadata": {}
        },
        {
          "output_type": "display_data",
          "data": {
            "text/plain": [
              "Upload file runs/Apr19_09-12-19_11ec4160ba19/events.out.tfevents.1681898460.11ec4160ba19.151.11:   0%|        …"
            ],
            "application/vnd.jupyter.widget-view+json": {
              "version_major": 2,
              "version_minor": 0,
              "model_id": "65f0073800d249a7af01a361e3cf09a2"
            }
          },
          "metadata": {}
        },
        {
          "output_type": "stream",
          "name": "stderr",
          "text": [
            "To https://huggingface.co/santhosh-4000/wav2vec2-base-finetuned-mednames\n",
            "   9201ef8..d6b0aa2  main -> main\n",
            "\n",
            "WARNING:huggingface_hub.repository:To https://huggingface.co/santhosh-4000/wav2vec2-base-finetuned-mednames\n",
            "   9201ef8..d6b0aa2  main -> main\n",
            "\n",
            "To https://huggingface.co/santhosh-4000/wav2vec2-base-finetuned-mednames\n",
            "   d6b0aa2..5d5f486  main -> main\n",
            "\n",
            "WARNING:huggingface_hub.repository:To https://huggingface.co/santhosh-4000/wav2vec2-base-finetuned-mednames\n",
            "   d6b0aa2..5d5f486  main -> main\n",
            "\n"
          ]
        },
        {
          "output_type": "execute_result",
          "data": {
            "text/plain": [
              "'https://huggingface.co/santhosh-4000/wav2vec2-base-finetuned-mednames/commit/d6b0aa204923cccc674ae012821b2ce62d07f249'"
            ],
            "application/vnd.google.colaboratory.intrinsic+json": {
              "type": "string"
            }
          },
          "metadata": {},
          "execution_count": 99
        }
      ],
      "source": [
        "trainer.push_to_hub()"
      ]
    },
    {
      "cell_type": "markdown",
      "source": [
        "## getting inference"
      ],
      "metadata": {
        "id": "txxppLXMQ8Qe"
      }
    },
    {
      "cell_type": "code",
      "source": [
        "# # For managing audio file\n",
        "# import librosa\n",
        "\n",
        "# audio, rate = librosa.load(\"/content/drive/MyDrive/Dataset/fyp_dataset_50_mp3/train/Aleve_1.mp3\", sr = 16000)"
      ],
      "metadata": {
        "id": "janPQIs4Oy7j"
      },
      "execution_count": null,
      "outputs": []
    },
    {
      "cell_type": "code",
      "source": [
        "# audio"
      ],
      "metadata": {
        "id": "aACUCiduPlV8"
      },
      "execution_count": null,
      "outputs": []
    },
    {
      "cell_type": "code",
      "source": [
        "# from transformers import pipeline\n",
        "# def pipeline_predict(input):\n",
        "#   classifier = pipeline(\"audio-classification\", model=\"santhosh-4000/wav2vec2-base-finetuned-mednames\")\n",
        "#   return classifier(input)"
      ],
      "metadata": {
        "id": "eCphUHeZP7Kp"
      },
      "execution_count": null,
      "outputs": []
    },
    {
      "cell_type": "code",
      "source": [
        "# pipeline_predict(audio)"
      ],
      "metadata": {
        "id": "IuwQ-TXpQEoX"
      },
      "execution_count": null,
      "outputs": []
    },
    {
      "cell_type": "code",
      "source": [
        "# dataset['train'][:10]"
      ],
      "metadata": {
        "id": "c8sTF_dyUUoy"
      },
      "execution_count": null,
      "outputs": []
    },
    {
      "cell_type": "code",
      "source": [
        "# transcriptions = []\n",
        "# for input_values in dataset['train']['audio'][:10]:\n",
        "#   transcription = pipeline_predict(input_values['array'])\n",
        "#   transcriptions.append(transcription)"
      ],
      "metadata": {
        "id": "PgBl5kolf2zV"
      },
      "execution_count": null,
      "outputs": []
    },
    {
      "cell_type": "code",
      "source": [
        "# transcriptions"
      ],
      "metadata": {
        "id": "RAichsFETQqF"
      },
      "execution_count": null,
      "outputs": []
    },
    {
      "cell_type": "code",
      "source": [
        "# transcription_ids = [label2id[str(x[0]['label'])] for x in transcriptions]\n",
        "# metric.compute(predictions=transcription_ids, references=dataset['train']['label'][:10])"
      ],
      "metadata": {
        "id": "zxmwYhZ1SL7C"
      },
      "execution_count": null,
      "outputs": []
    },
    {
      "cell_type": "markdown",
      "source": [
        "## cer metric"
      ],
      "metadata": {
        "id": "X9g3XeHbP3iL"
      }
    },
    {
      "cell_type": "code",
      "source": [
        "!pip install evaluate"
      ],
      "metadata": {
        "colab": {
          "base_uri": "https://localhost:8080/"
        },
        "id": "8VtrtZ-1-PF5",
        "outputId": "8c14ebc5-61d8-4125-aab6-8182ddb93057"
      },
      "execution_count": null,
      "outputs": [
        {
          "output_type": "stream",
          "name": "stdout",
          "text": [
            "Looking in indexes: https://pypi.org/simple, https://us-python.pkg.dev/colab-wheels/public/simple/\n",
            "Collecting evaluate\n",
            "  Downloading evaluate-0.4.0-py3-none-any.whl (81 kB)\n",
            "\u001b[2K     \u001b[90m━━━━━━━━━━━━━━━━━━━━━━━━━━━━━━━━━━━━━━━━\u001b[0m \u001b[32m81.4/81.4 kB\u001b[0m \u001b[31m3.0 MB/s\u001b[0m eta \u001b[36m0:00:00\u001b[0m\n",
            "\u001b[?25hRequirement already satisfied: datasets>=2.0.0 in /usr/local/lib/python3.9/dist-packages (from evaluate) (2.11.0)\n",
            "Requirement already satisfied: fsspec[http]>=2021.05.0 in /usr/local/lib/python3.9/dist-packages (from evaluate) (2023.4.0)\n",
            "Requirement already satisfied: pandas in /usr/local/lib/python3.9/dist-packages (from evaluate) (1.5.3)\n",
            "Requirement already satisfied: requests>=2.19.0 in /usr/local/lib/python3.9/dist-packages (from evaluate) (2.27.1)\n",
            "Requirement already satisfied: packaging in /usr/local/lib/python3.9/dist-packages (from evaluate) (23.0)\n",
            "Requirement already satisfied: multiprocess in /usr/local/lib/python3.9/dist-packages (from evaluate) (0.70.14)\n",
            "Requirement already satisfied: responses<0.19 in /usr/local/lib/python3.9/dist-packages (from evaluate) (0.18.0)\n",
            "Requirement already satisfied: huggingface-hub>=0.7.0 in /usr/local/lib/python3.9/dist-packages (from evaluate) (0.13.4)\n",
            "Requirement already satisfied: dill in /usr/local/lib/python3.9/dist-packages (from evaluate) (0.3.6)\n",
            "Requirement already satisfied: numpy>=1.17 in /usr/local/lib/python3.9/dist-packages (from evaluate) (1.22.4)\n",
            "Requirement already satisfied: xxhash in /usr/local/lib/python3.9/dist-packages (from evaluate) (3.2.0)\n",
            "Requirement already satisfied: tqdm>=4.62.1 in /usr/local/lib/python3.9/dist-packages (from evaluate) (4.65.0)\n",
            "Requirement already satisfied: aiohttp in /usr/local/lib/python3.9/dist-packages (from datasets>=2.0.0->evaluate) (3.8.4)\n",
            "Requirement already satisfied: pyarrow>=8.0.0 in /usr/local/lib/python3.9/dist-packages (from datasets>=2.0.0->evaluate) (9.0.0)\n",
            "Requirement already satisfied: pyyaml>=5.1 in /usr/local/lib/python3.9/dist-packages (from datasets>=2.0.0->evaluate) (6.0)\n",
            "Requirement already satisfied: filelock in /usr/local/lib/python3.9/dist-packages (from huggingface-hub>=0.7.0->evaluate) (3.11.0)\n",
            "Requirement already satisfied: typing-extensions>=3.7.4.3 in /usr/local/lib/python3.9/dist-packages (from huggingface-hub>=0.7.0->evaluate) (4.5.0)\n",
            "Requirement already satisfied: charset-normalizer~=2.0.0 in /usr/local/lib/python3.9/dist-packages (from requests>=2.19.0->evaluate) (2.0.12)\n",
            "Requirement already satisfied: certifi>=2017.4.17 in /usr/local/lib/python3.9/dist-packages (from requests>=2.19.0->evaluate) (2022.12.7)\n",
            "Requirement already satisfied: urllib3<1.27,>=1.21.1 in /usr/local/lib/python3.9/dist-packages (from requests>=2.19.0->evaluate) (1.26.15)\n",
            "Requirement already satisfied: idna<4,>=2.5 in /usr/local/lib/python3.9/dist-packages (from requests>=2.19.0->evaluate) (3.4)\n",
            "Requirement already satisfied: python-dateutil>=2.8.1 in /usr/local/lib/python3.9/dist-packages (from pandas->evaluate) (2.8.2)\n",
            "Requirement already satisfied: pytz>=2020.1 in /usr/local/lib/python3.9/dist-packages (from pandas->evaluate) (2022.7.1)\n",
            "Requirement already satisfied: yarl<2.0,>=1.0 in /usr/local/lib/python3.9/dist-packages (from aiohttp->datasets>=2.0.0->evaluate) (1.8.2)\n",
            "Requirement already satisfied: frozenlist>=1.1.1 in /usr/local/lib/python3.9/dist-packages (from aiohttp->datasets>=2.0.0->evaluate) (1.3.3)\n",
            "Requirement already satisfied: aiosignal>=1.1.2 in /usr/local/lib/python3.9/dist-packages (from aiohttp->datasets>=2.0.0->evaluate) (1.3.1)\n",
            "Requirement already satisfied: async-timeout<5.0,>=4.0.0a3 in /usr/local/lib/python3.9/dist-packages (from aiohttp->datasets>=2.0.0->evaluate) (4.0.2)\n",
            "Requirement already satisfied: attrs>=17.3.0 in /usr/local/lib/python3.9/dist-packages (from aiohttp->datasets>=2.0.0->evaluate) (22.2.0)\n",
            "Requirement already satisfied: multidict<7.0,>=4.5 in /usr/local/lib/python3.9/dist-packages (from aiohttp->datasets>=2.0.0->evaluate) (6.0.4)\n",
            "Requirement already satisfied: six>=1.5 in /usr/local/lib/python3.9/dist-packages (from python-dateutil>=2.8.1->pandas->evaluate) (1.16.0)\n",
            "Installing collected packages: evaluate\n",
            "Successfully installed evaluate-0.4.0\n"
          ]
        }
      ]
    },
    {
      "cell_type": "code",
      "source": [
        "!pip install -q jiwer"
      ],
      "metadata": {
        "colab": {
          "base_uri": "https://localhost:8080/"
        },
        "id": "QxJ5BXmz-ZXm",
        "outputId": "832a64ee-5da2-4acc-9b89-0d9ad637abaa"
      },
      "execution_count": null,
      "outputs": [
        {
          "output_type": "stream",
          "name": "stdout",
          "text": [
            "\u001b[?25l     \u001b[90m━━━━━━━━━━━━━━━━━━━━━━━━━━━━━━━━━━━━━━━━\u001b[0m \u001b[32m0.0/2.2 MB\u001b[0m \u001b[31m?\u001b[0m eta \u001b[36m-:--:--\u001b[0m\r\u001b[2K     \u001b[91m━━━━━━━━━━━━\u001b[0m\u001b[91m╸\u001b[0m\u001b[90m━━━━━━━━━━━━━━━━━━━━━━━━━━━\u001b[0m \u001b[32m0.7/2.2 MB\u001b[0m \u001b[31m22.4 MB/s\u001b[0m eta \u001b[36m0:00:01\u001b[0m\r\u001b[2K     \u001b[91m━━━━━━━━━━━━━━━━━━━━━━━━━━━━━━━━━━━━━━━\u001b[0m\u001b[91m╸\u001b[0m \u001b[32m2.2/2.2 MB\u001b[0m \u001b[31m33.1 MB/s\u001b[0m eta \u001b[36m0:00:01\u001b[0m\r\u001b[2K     \u001b[90m━━━━━━━━━━━━━━━━━━━━━━━━━━━━━━━━━━━━━━━━\u001b[0m \u001b[32m2.2/2.2 MB\u001b[0m \u001b[31m18.3 MB/s\u001b[0m eta \u001b[36m0:00:00\u001b[0m\n",
            "\u001b[?25h"
          ]
        }
      ]
    },
    {
      "cell_type": "code",
      "source": [
        "from evaluate import load\n",
        "cer = load(\"cer\")\n",
        "cer_score = cer.compute(predictions=prediction_labels, references=actual_labels)"
      ],
      "metadata": {
        "id": "GRGxqaIkUl6W"
      },
      "execution_count": null,
      "outputs": []
    },
    {
      "cell_type": "code",
      "source": [
        "print(cer_score)"
      ],
      "metadata": {
        "id": "1NxbY5aZREBD",
        "colab": {
          "base_uri": "https://localhost:8080/"
        },
        "outputId": "9284735c-1b31-4249-883a-83b93a1c9b69"
      },
      "execution_count": null,
      "outputs": [
        {
          "output_type": "stream",
          "name": "stdout",
          "text": [
            "0.0\n"
          ]
        }
      ]
    },
    {
      "cell_type": "code",
      "source": [
        "prediction_labels"
      ],
      "metadata": {
        "colab": {
          "base_uri": "https://localhost:8080/"
        },
        "id": "OqYib5Vx-xBa",
        "outputId": "cb1d3463-6ae3-4fff-cd8a-02757b02ec0a"
      },
      "execution_count": null,
      "outputs": [
        {
          "output_type": "execute_result",
          "data": {
            "text/plain": [
              "['Bayer',\n",
              " 'Dolo',\n",
              " 'Tylenol',\n",
              " 'Indocin',\n",
              " 'Tylenol',\n",
              " 'Pyridium',\n",
              " 'Dolo',\n",
              " 'Bayer',\n",
              " 'Bayer',\n",
              " 'Ponstel',\n",
              " 'Pyridium',\n",
              " 'Aleve',\n",
              " 'Indocin',\n",
              " 'Tylenol',\n",
              " 'Tylenol',\n",
              " 'Voltaren',\n",
              " 'Tylenol',\n",
              " 'Ponstel',\n",
              " 'Ponstel',\n",
              " 'Bayer',\n",
              " 'Voltaren',\n",
              " 'Pyridium',\n",
              " 'Pyridium',\n",
              " 'Voltaren',\n",
              " 'Tylenol',\n",
              " 'Indocin',\n",
              " 'Panadol',\n",
              " 'Voltaren',\n",
              " 'Voltaren',\n",
              " 'Voltaren',\n",
              " 'Panadol',\n",
              " 'Aleve',\n",
              " 'Indocin',\n",
              " 'Tylenol',\n",
              " 'Ponstel',\n",
              " 'Aleve',\n",
              " 'Panadol',\n",
              " 'Voltaren',\n",
              " 'Pyridium',\n",
              " 'Dolo',\n",
              " 'Dolo',\n",
              " 'Tylenol',\n",
              " 'Aleve',\n",
              " 'Aleve',\n",
              " 'Dolo',\n",
              " 'Pyridium',\n",
              " 'Bayer',\n",
              " 'Advil',\n",
              " 'Ponstel',\n",
              " 'Advil',\n",
              " 'Bayer',\n",
              " 'Advil',\n",
              " 'Ponstel',\n",
              " 'Pyridium',\n",
              " 'Bayer',\n",
              " 'Indocin',\n",
              " 'Panadol',\n",
              " 'Panadol',\n",
              " 'Aleve',\n",
              " 'Advil',\n",
              " 'Bayer',\n",
              " 'Ponstel',\n",
              " 'Panadol',\n",
              " 'Aleve',\n",
              " 'Bayer',\n",
              " 'Panadol',\n",
              " 'Panadol',\n",
              " 'Aleve',\n",
              " 'Tylenol',\n",
              " 'Pyridium',\n",
              " 'Tylenol',\n",
              " 'Aleve',\n",
              " 'Tylenol',\n",
              " 'Dolo',\n",
              " 'Aleve',\n",
              " 'Indocin',\n",
              " 'Panadol',\n",
              " 'Tylenol',\n",
              " 'Indocin',\n",
              " 'Voltaren',\n",
              " 'Advil',\n",
              " 'Aleve',\n",
              " 'Aleve',\n",
              " 'Voltaren',\n",
              " 'Dolo',\n",
              " 'Pyridium',\n",
              " 'Bayer',\n",
              " 'Voltaren',\n",
              " 'Pyridium',\n",
              " 'Panadol',\n",
              " 'Tylenol',\n",
              " 'Indocin',\n",
              " 'Tylenol',\n",
              " 'Bayer',\n",
              " 'Indocin',\n",
              " 'Tylenol',\n",
              " 'Voltaren',\n",
              " 'Ponstel',\n",
              " 'Ponstel',\n",
              " 'Dolo',\n",
              " 'Dolo',\n",
              " 'Ponstel',\n",
              " 'Bayer',\n",
              " 'Indocin',\n",
              " 'Pyridium',\n",
              " 'Ponstel',\n",
              " 'Dolo',\n",
              " 'Tylenol',\n",
              " 'Voltaren',\n",
              " 'Ponstel',\n",
              " 'Dolo',\n",
              " 'Dolo',\n",
              " 'Dolo',\n",
              " 'Advil',\n",
              " 'Bayer',\n",
              " 'Dolo',\n",
              " 'Bayer',\n",
              " 'Voltaren',\n",
              " 'Indocin',\n",
              " 'Tylenol',\n",
              " 'Ponstel',\n",
              " 'Panadol',\n",
              " 'Voltaren',\n",
              " 'Indocin',\n",
              " 'Bayer',\n",
              " 'Pyridium',\n",
              " 'Pyridium',\n",
              " 'Advil',\n",
              " 'Advil',\n",
              " 'Indocin',\n",
              " 'Indocin',\n",
              " 'Aleve',\n",
              " 'Bayer',\n",
              " 'Voltaren',\n",
              " 'Panadol',\n",
              " 'Pyridium',\n",
              " 'Pyridium',\n",
              " 'Ponstel',\n",
              " 'Advil',\n",
              " 'Advil',\n",
              " 'Panadol',\n",
              " 'Indocin',\n",
              " 'Advil',\n",
              " 'Dolo',\n",
              " 'Panadol',\n",
              " 'Advil',\n",
              " 'Aleve',\n",
              " 'Ponstel',\n",
              " 'Aleve',\n",
              " 'Panadol',\n",
              " 'Indocin',\n",
              " 'Ponstel',\n",
              " 'Advil',\n",
              " 'Voltaren',\n",
              " 'Pyridium',\n",
              " 'Indocin',\n",
              " 'Voltaren',\n",
              " 'Dolo',\n",
              " 'Tylenol',\n",
              " 'Panadol',\n",
              " 'Pyridium',\n",
              " 'Advil',\n",
              " 'Bayer',\n",
              " 'Panadol',\n",
              " 'Dolo',\n",
              " 'Advil',\n",
              " 'Advil',\n",
              " 'Bayer',\n",
              " 'Aleve',\n",
              " 'Advil',\n",
              " 'Pyridium',\n",
              " 'Aleve',\n",
              " 'Voltaren',\n",
              " 'Dolo',\n",
              " 'Ponstel',\n",
              " 'Ponstel',\n",
              " 'Aleve',\n",
              " 'Advil',\n",
              " 'Panadol',\n",
              " 'Indocin']"
            ]
          },
          "metadata": {},
          "execution_count": 114
        }
      ]
    },
    {
      "cell_type": "code",
      "source": [
        "actual_labels"
      ],
      "metadata": {
        "colab": {
          "base_uri": "https://localhost:8080/"
        },
        "id": "5shM2KBV-1Mw",
        "outputId": "32d43b93-884e-470a-a6e4-6ff8df23d480"
      },
      "execution_count": null,
      "outputs": [
        {
          "output_type": "execute_result",
          "data": {
            "text/plain": [
              "['Bayer',\n",
              " 'Dolo',\n",
              " 'Tylenol',\n",
              " 'Indocin',\n",
              " 'Tylenol',\n",
              " 'Pyridium',\n",
              " 'Dolo',\n",
              " 'Bayer',\n",
              " 'Bayer',\n",
              " 'Ponstel',\n",
              " 'Pyridium',\n",
              " 'Aleve',\n",
              " 'Indocin',\n",
              " 'Tylenol',\n",
              " 'Tylenol',\n",
              " 'Voltaren',\n",
              " 'Tylenol',\n",
              " 'Ponstel',\n",
              " 'Ponstel',\n",
              " 'Bayer',\n",
              " 'Voltaren',\n",
              " 'Pyridium',\n",
              " 'Pyridium',\n",
              " 'Voltaren',\n",
              " 'Tylenol',\n",
              " 'Indocin',\n",
              " 'Panadol',\n",
              " 'Voltaren',\n",
              " 'Voltaren',\n",
              " 'Voltaren',\n",
              " 'Panadol',\n",
              " 'Aleve',\n",
              " 'Indocin',\n",
              " 'Tylenol',\n",
              " 'Ponstel',\n",
              " 'Aleve',\n",
              " 'Panadol',\n",
              " 'Voltaren',\n",
              " 'Pyridium',\n",
              " 'Dolo',\n",
              " 'Dolo',\n",
              " 'Tylenol',\n",
              " 'Aleve',\n",
              " 'Aleve',\n",
              " 'Dolo',\n",
              " 'Pyridium',\n",
              " 'Bayer',\n",
              " 'Advil',\n",
              " 'Ponstel',\n",
              " 'Advil',\n",
              " 'Bayer',\n",
              " 'Advil',\n",
              " 'Ponstel',\n",
              " 'Pyridium',\n",
              " 'Bayer',\n",
              " 'Indocin',\n",
              " 'Panadol',\n",
              " 'Panadol',\n",
              " 'Aleve',\n",
              " 'Advil',\n",
              " 'Bayer',\n",
              " 'Ponstel',\n",
              " 'Panadol',\n",
              " 'Aleve',\n",
              " 'Bayer',\n",
              " 'Panadol',\n",
              " 'Panadol',\n",
              " 'Aleve',\n",
              " 'Tylenol',\n",
              " 'Pyridium',\n",
              " 'Tylenol',\n",
              " 'Aleve',\n",
              " 'Tylenol',\n",
              " 'Dolo',\n",
              " 'Aleve',\n",
              " 'Indocin',\n",
              " 'Panadol',\n",
              " 'Tylenol',\n",
              " 'Indocin',\n",
              " 'Voltaren',\n",
              " 'Advil',\n",
              " 'Aleve',\n",
              " 'Aleve',\n",
              " 'Voltaren',\n",
              " 'Dolo',\n",
              " 'Pyridium',\n",
              " 'Bayer',\n",
              " 'Voltaren',\n",
              " 'Pyridium',\n",
              " 'Panadol',\n",
              " 'Tylenol',\n",
              " 'Indocin',\n",
              " 'Tylenol',\n",
              " 'Bayer',\n",
              " 'Indocin',\n",
              " 'Tylenol',\n",
              " 'Voltaren',\n",
              " 'Ponstel',\n",
              " 'Ponstel',\n",
              " 'Dolo',\n",
              " 'Dolo',\n",
              " 'Ponstel',\n",
              " 'Bayer',\n",
              " 'Indocin',\n",
              " 'Pyridium',\n",
              " 'Ponstel',\n",
              " 'Dolo',\n",
              " 'Tylenol',\n",
              " 'Voltaren',\n",
              " 'Ponstel',\n",
              " 'Dolo',\n",
              " 'Dolo',\n",
              " 'Dolo',\n",
              " 'Advil',\n",
              " 'Bayer',\n",
              " 'Dolo',\n",
              " 'Bayer',\n",
              " 'Voltaren',\n",
              " 'Indocin',\n",
              " 'Tylenol',\n",
              " 'Ponstel',\n",
              " 'Panadol',\n",
              " 'Voltaren',\n",
              " 'Indocin',\n",
              " 'Bayer',\n",
              " 'Pyridium',\n",
              " 'Pyridium',\n",
              " 'Advil',\n",
              " 'Advil',\n",
              " 'Indocin',\n",
              " 'Indocin',\n",
              " 'Aleve',\n",
              " 'Bayer',\n",
              " 'Voltaren',\n",
              " 'Panadol',\n",
              " 'Pyridium',\n",
              " 'Pyridium',\n",
              " 'Ponstel',\n",
              " 'Advil',\n",
              " 'Advil',\n",
              " 'Panadol',\n",
              " 'Indocin',\n",
              " 'Advil',\n",
              " 'Dolo',\n",
              " 'Panadol',\n",
              " 'Advil',\n",
              " 'Aleve',\n",
              " 'Ponstel',\n",
              " 'Aleve',\n",
              " 'Panadol',\n",
              " 'Indocin',\n",
              " 'Ponstel',\n",
              " 'Advil',\n",
              " 'Voltaren',\n",
              " 'Pyridium',\n",
              " 'Indocin',\n",
              " 'Voltaren',\n",
              " 'Dolo',\n",
              " 'Tylenol',\n",
              " 'Panadol',\n",
              " 'Pyridium',\n",
              " 'Advil',\n",
              " 'Bayer',\n",
              " 'Panadol',\n",
              " 'Dolo',\n",
              " 'Advil',\n",
              " 'Advil',\n",
              " 'Bayer',\n",
              " 'Aleve',\n",
              " 'Advil',\n",
              " 'Pyridium',\n",
              " 'Aleve',\n",
              " 'Voltaren',\n",
              " 'Dolo',\n",
              " 'Ponstel',\n",
              " 'Ponstel',\n",
              " 'Aleve',\n",
              " 'Advil',\n",
              " 'Panadol',\n",
              " 'Indocin']"
            ]
          },
          "metadata": {},
          "execution_count": 115
        }
      ]
    }
  ],
  "metadata": {
    "colab": {
      "provenance": []
    },
    "gpuClass": "standard",
    "kernelspec": {
      "display_name": "Python 3",
      "name": "python3"
    },
    "language_info": {
      "name": "python"
    },
    "widgets": {
      "application/vnd.jupyter.widget-state+json": {
        "b3d5c55b5ebd4b79a473a721b22814a3": {
          "model_module": "@jupyter-widgets/controls",
          "model_name": "VBoxModel",
          "model_module_version": "1.5.0",
          "state": {
            "_dom_classes": [],
            "_model_module": "@jupyter-widgets/controls",
            "_model_module_version": "1.5.0",
            "_model_name": "VBoxModel",
            "_view_count": null,
            "_view_module": "@jupyter-widgets/controls",
            "_view_module_version": "1.5.0",
            "_view_name": "VBoxView",
            "box_style": "",
            "children": [
              "IPY_MODEL_d30a18b62c3841819d7ae575ccecff8a",
              "IPY_MODEL_df37d293a8684d51a0607dd9a0f95453",
              "IPY_MODEL_a176d2b1131041c486bad4d892b959cf",
              "IPY_MODEL_4b447154a7044419a2b2933d0208eae3",
              "IPY_MODEL_e459818c78e646ab98a06110790caabf"
            ],
            "layout": "IPY_MODEL_8136b544c2854512ad4b2d4304649977"
          }
        },
        "d30a18b62c3841819d7ae575ccecff8a": {
          "model_module": "@jupyter-widgets/controls",
          "model_name": "HTMLModel",
          "model_module_version": "1.5.0",
          "state": {
            "_dom_classes": [],
            "_model_module": "@jupyter-widgets/controls",
            "_model_module_version": "1.5.0",
            "_model_name": "HTMLModel",
            "_view_count": null,
            "_view_module": "@jupyter-widgets/controls",
            "_view_module_version": "1.5.0",
            "_view_name": "HTMLView",
            "description": "",
            "description_tooltip": null,
            "layout": "IPY_MODEL_92f6d3213e0e42f18e33d4e712806531",
            "placeholder": "​",
            "style": "IPY_MODEL_3bed7b7c3a034f18ab22986cecfde594",
            "value": "<center> <img\nsrc=https://huggingface.co/front/assets/huggingface_logo-noborder.svg\nalt='Hugging Face'> <br> Copy a token from <a\nhref=\"https://huggingface.co/settings/tokens\" target=\"_blank\">your Hugging Face\ntokens page</a> and paste it below. <br> Immediately click login after copying\nyour token or it might be stored in plain text in this notebook file. </center>"
          }
        },
        "df37d293a8684d51a0607dd9a0f95453": {
          "model_module": "@jupyter-widgets/controls",
          "model_name": "PasswordModel",
          "model_module_version": "1.5.0",
          "state": {
            "_dom_classes": [],
            "_model_module": "@jupyter-widgets/controls",
            "_model_module_version": "1.5.0",
            "_model_name": "PasswordModel",
            "_view_count": null,
            "_view_module": "@jupyter-widgets/controls",
            "_view_module_version": "1.5.0",
            "_view_name": "PasswordView",
            "continuous_update": true,
            "description": "Token:",
            "description_tooltip": null,
            "disabled": false,
            "layout": "IPY_MODEL_7a211ea4c0884f65a42ad9d98d0034fa",
            "placeholder": "​",
            "style": "IPY_MODEL_13fa8305c5434be39c288b0aabdc4eac",
            "value": ""
          }
        },
        "a176d2b1131041c486bad4d892b959cf": {
          "model_module": "@jupyter-widgets/controls",
          "model_name": "CheckboxModel",
          "model_module_version": "1.5.0",
          "state": {
            "_dom_classes": [],
            "_model_module": "@jupyter-widgets/controls",
            "_model_module_version": "1.5.0",
            "_model_name": "CheckboxModel",
            "_view_count": null,
            "_view_module": "@jupyter-widgets/controls",
            "_view_module_version": "1.5.0",
            "_view_name": "CheckboxView",
            "description": "Add token as git credential?",
            "description_tooltip": null,
            "disabled": false,
            "indent": true,
            "layout": "IPY_MODEL_fb0a6a806ebb4db4a73c00235df31204",
            "style": "IPY_MODEL_bd61ef00dea34cfebb3192e1e619428d",
            "value": true
          }
        },
        "4b447154a7044419a2b2933d0208eae3": {
          "model_module": "@jupyter-widgets/controls",
          "model_name": "ButtonModel",
          "model_module_version": "1.5.0",
          "state": {
            "_dom_classes": [],
            "_model_module": "@jupyter-widgets/controls",
            "_model_module_version": "1.5.0",
            "_model_name": "ButtonModel",
            "_view_count": null,
            "_view_module": "@jupyter-widgets/controls",
            "_view_module_version": "1.5.0",
            "_view_name": "ButtonView",
            "button_style": "",
            "description": "Login",
            "disabled": false,
            "icon": "",
            "layout": "IPY_MODEL_4e6831ba2427462aaeb70b09fadca47c",
            "style": "IPY_MODEL_419ce2e8e37640638b70caaa7512c4be",
            "tooltip": ""
          }
        },
        "e459818c78e646ab98a06110790caabf": {
          "model_module": "@jupyter-widgets/controls",
          "model_name": "HTMLModel",
          "model_module_version": "1.5.0",
          "state": {
            "_dom_classes": [],
            "_model_module": "@jupyter-widgets/controls",
            "_model_module_version": "1.5.0",
            "_model_name": "HTMLModel",
            "_view_count": null,
            "_view_module": "@jupyter-widgets/controls",
            "_view_module_version": "1.5.0",
            "_view_name": "HTMLView",
            "description": "",
            "description_tooltip": null,
            "layout": "IPY_MODEL_9cce24e109ad4b7f8c75120eb338edb8",
            "placeholder": "​",
            "style": "IPY_MODEL_11c79b4b56a24a3992ba475bc8327908",
            "value": "\n<b>Pro Tip:</b> If you don't already have one, you can create a dedicated\n'notebooks' token with 'write' access, that you can then easily reuse for all\nnotebooks. </center>"
          }
        },
        "8136b544c2854512ad4b2d4304649977": {
          "model_module": "@jupyter-widgets/base",
          "model_name": "LayoutModel",
          "model_module_version": "1.2.0",
          "state": {
            "_model_module": "@jupyter-widgets/base",
            "_model_module_version": "1.2.0",
            "_model_name": "LayoutModel",
            "_view_count": null,
            "_view_module": "@jupyter-widgets/base",
            "_view_module_version": "1.2.0",
            "_view_name": "LayoutView",
            "align_content": null,
            "align_items": "center",
            "align_self": null,
            "border": null,
            "bottom": null,
            "display": "flex",
            "flex": null,
            "flex_flow": "column",
            "grid_area": null,
            "grid_auto_columns": null,
            "grid_auto_flow": null,
            "grid_auto_rows": null,
            "grid_column": null,
            "grid_gap": null,
            "grid_row": null,
            "grid_template_areas": null,
            "grid_template_columns": null,
            "grid_template_rows": null,
            "height": null,
            "justify_content": null,
            "justify_items": null,
            "left": null,
            "margin": null,
            "max_height": null,
            "max_width": null,
            "min_height": null,
            "min_width": null,
            "object_fit": null,
            "object_position": null,
            "order": null,
            "overflow": null,
            "overflow_x": null,
            "overflow_y": null,
            "padding": null,
            "right": null,
            "top": null,
            "visibility": null,
            "width": "50%"
          }
        },
        "92f6d3213e0e42f18e33d4e712806531": {
          "model_module": "@jupyter-widgets/base",
          "model_name": "LayoutModel",
          "model_module_version": "1.2.0",
          "state": {
            "_model_module": "@jupyter-widgets/base",
            "_model_module_version": "1.2.0",
            "_model_name": "LayoutModel",
            "_view_count": null,
            "_view_module": "@jupyter-widgets/base",
            "_view_module_version": "1.2.0",
            "_view_name": "LayoutView",
            "align_content": null,
            "align_items": null,
            "align_self": null,
            "border": null,
            "bottom": null,
            "display": null,
            "flex": null,
            "flex_flow": null,
            "grid_area": null,
            "grid_auto_columns": null,
            "grid_auto_flow": null,
            "grid_auto_rows": null,
            "grid_column": null,
            "grid_gap": null,
            "grid_row": null,
            "grid_template_areas": null,
            "grid_template_columns": null,
            "grid_template_rows": null,
            "height": null,
            "justify_content": null,
            "justify_items": null,
            "left": null,
            "margin": null,
            "max_height": null,
            "max_width": null,
            "min_height": null,
            "min_width": null,
            "object_fit": null,
            "object_position": null,
            "order": null,
            "overflow": null,
            "overflow_x": null,
            "overflow_y": null,
            "padding": null,
            "right": null,
            "top": null,
            "visibility": null,
            "width": null
          }
        },
        "3bed7b7c3a034f18ab22986cecfde594": {
          "model_module": "@jupyter-widgets/controls",
          "model_name": "DescriptionStyleModel",
          "model_module_version": "1.5.0",
          "state": {
            "_model_module": "@jupyter-widgets/controls",
            "_model_module_version": "1.5.0",
            "_model_name": "DescriptionStyleModel",
            "_view_count": null,
            "_view_module": "@jupyter-widgets/base",
            "_view_module_version": "1.2.0",
            "_view_name": "StyleView",
            "description_width": ""
          }
        },
        "7a211ea4c0884f65a42ad9d98d0034fa": {
          "model_module": "@jupyter-widgets/base",
          "model_name": "LayoutModel",
          "model_module_version": "1.2.0",
          "state": {
            "_model_module": "@jupyter-widgets/base",
            "_model_module_version": "1.2.0",
            "_model_name": "LayoutModel",
            "_view_count": null,
            "_view_module": "@jupyter-widgets/base",
            "_view_module_version": "1.2.0",
            "_view_name": "LayoutView",
            "align_content": null,
            "align_items": null,
            "align_self": null,
            "border": null,
            "bottom": null,
            "display": null,
            "flex": null,
            "flex_flow": null,
            "grid_area": null,
            "grid_auto_columns": null,
            "grid_auto_flow": null,
            "grid_auto_rows": null,
            "grid_column": null,
            "grid_gap": null,
            "grid_row": null,
            "grid_template_areas": null,
            "grid_template_columns": null,
            "grid_template_rows": null,
            "height": null,
            "justify_content": null,
            "justify_items": null,
            "left": null,
            "margin": null,
            "max_height": null,
            "max_width": null,
            "min_height": null,
            "min_width": null,
            "object_fit": null,
            "object_position": null,
            "order": null,
            "overflow": null,
            "overflow_x": null,
            "overflow_y": null,
            "padding": null,
            "right": null,
            "top": null,
            "visibility": null,
            "width": null
          }
        },
        "13fa8305c5434be39c288b0aabdc4eac": {
          "model_module": "@jupyter-widgets/controls",
          "model_name": "DescriptionStyleModel",
          "model_module_version": "1.5.0",
          "state": {
            "_model_module": "@jupyter-widgets/controls",
            "_model_module_version": "1.5.0",
            "_model_name": "DescriptionStyleModel",
            "_view_count": null,
            "_view_module": "@jupyter-widgets/base",
            "_view_module_version": "1.2.0",
            "_view_name": "StyleView",
            "description_width": ""
          }
        },
        "fb0a6a806ebb4db4a73c00235df31204": {
          "model_module": "@jupyter-widgets/base",
          "model_name": "LayoutModel",
          "model_module_version": "1.2.0",
          "state": {
            "_model_module": "@jupyter-widgets/base",
            "_model_module_version": "1.2.0",
            "_model_name": "LayoutModel",
            "_view_count": null,
            "_view_module": "@jupyter-widgets/base",
            "_view_module_version": "1.2.0",
            "_view_name": "LayoutView",
            "align_content": null,
            "align_items": null,
            "align_self": null,
            "border": null,
            "bottom": null,
            "display": null,
            "flex": null,
            "flex_flow": null,
            "grid_area": null,
            "grid_auto_columns": null,
            "grid_auto_flow": null,
            "grid_auto_rows": null,
            "grid_column": null,
            "grid_gap": null,
            "grid_row": null,
            "grid_template_areas": null,
            "grid_template_columns": null,
            "grid_template_rows": null,
            "height": null,
            "justify_content": null,
            "justify_items": null,
            "left": null,
            "margin": null,
            "max_height": null,
            "max_width": null,
            "min_height": null,
            "min_width": null,
            "object_fit": null,
            "object_position": null,
            "order": null,
            "overflow": null,
            "overflow_x": null,
            "overflow_y": null,
            "padding": null,
            "right": null,
            "top": null,
            "visibility": null,
            "width": null
          }
        },
        "bd61ef00dea34cfebb3192e1e619428d": {
          "model_module": "@jupyter-widgets/controls",
          "model_name": "DescriptionStyleModel",
          "model_module_version": "1.5.0",
          "state": {
            "_model_module": "@jupyter-widgets/controls",
            "_model_module_version": "1.5.0",
            "_model_name": "DescriptionStyleModel",
            "_view_count": null,
            "_view_module": "@jupyter-widgets/base",
            "_view_module_version": "1.2.0",
            "_view_name": "StyleView",
            "description_width": ""
          }
        },
        "4e6831ba2427462aaeb70b09fadca47c": {
          "model_module": "@jupyter-widgets/base",
          "model_name": "LayoutModel",
          "model_module_version": "1.2.0",
          "state": {
            "_model_module": "@jupyter-widgets/base",
            "_model_module_version": "1.2.0",
            "_model_name": "LayoutModel",
            "_view_count": null,
            "_view_module": "@jupyter-widgets/base",
            "_view_module_version": "1.2.0",
            "_view_name": "LayoutView",
            "align_content": null,
            "align_items": null,
            "align_self": null,
            "border": null,
            "bottom": null,
            "display": null,
            "flex": null,
            "flex_flow": null,
            "grid_area": null,
            "grid_auto_columns": null,
            "grid_auto_flow": null,
            "grid_auto_rows": null,
            "grid_column": null,
            "grid_gap": null,
            "grid_row": null,
            "grid_template_areas": null,
            "grid_template_columns": null,
            "grid_template_rows": null,
            "height": null,
            "justify_content": null,
            "justify_items": null,
            "left": null,
            "margin": null,
            "max_height": null,
            "max_width": null,
            "min_height": null,
            "min_width": null,
            "object_fit": null,
            "object_position": null,
            "order": null,
            "overflow": null,
            "overflow_x": null,
            "overflow_y": null,
            "padding": null,
            "right": null,
            "top": null,
            "visibility": null,
            "width": null
          }
        },
        "419ce2e8e37640638b70caaa7512c4be": {
          "model_module": "@jupyter-widgets/controls",
          "model_name": "ButtonStyleModel",
          "model_module_version": "1.5.0",
          "state": {
            "_model_module": "@jupyter-widgets/controls",
            "_model_module_version": "1.5.0",
            "_model_name": "ButtonStyleModel",
            "_view_count": null,
            "_view_module": "@jupyter-widgets/base",
            "_view_module_version": "1.2.0",
            "_view_name": "StyleView",
            "button_color": null,
            "font_weight": ""
          }
        },
        "9cce24e109ad4b7f8c75120eb338edb8": {
          "model_module": "@jupyter-widgets/base",
          "model_name": "LayoutModel",
          "model_module_version": "1.2.0",
          "state": {
            "_model_module": "@jupyter-widgets/base",
            "_model_module_version": "1.2.0",
            "_model_name": "LayoutModel",
            "_view_count": null,
            "_view_module": "@jupyter-widgets/base",
            "_view_module_version": "1.2.0",
            "_view_name": "LayoutView",
            "align_content": null,
            "align_items": null,
            "align_self": null,
            "border": null,
            "bottom": null,
            "display": null,
            "flex": null,
            "flex_flow": null,
            "grid_area": null,
            "grid_auto_columns": null,
            "grid_auto_flow": null,
            "grid_auto_rows": null,
            "grid_column": null,
            "grid_gap": null,
            "grid_row": null,
            "grid_template_areas": null,
            "grid_template_columns": null,
            "grid_template_rows": null,
            "height": null,
            "justify_content": null,
            "justify_items": null,
            "left": null,
            "margin": null,
            "max_height": null,
            "max_width": null,
            "min_height": null,
            "min_width": null,
            "object_fit": null,
            "object_position": null,
            "order": null,
            "overflow": null,
            "overflow_x": null,
            "overflow_y": null,
            "padding": null,
            "right": null,
            "top": null,
            "visibility": null,
            "width": null
          }
        },
        "11c79b4b56a24a3992ba475bc8327908": {
          "model_module": "@jupyter-widgets/controls",
          "model_name": "DescriptionStyleModel",
          "model_module_version": "1.5.0",
          "state": {
            "_model_module": "@jupyter-widgets/controls",
            "_model_module_version": "1.5.0",
            "_model_name": "DescriptionStyleModel",
            "_view_count": null,
            "_view_module": "@jupyter-widgets/base",
            "_view_module_version": "1.2.0",
            "_view_name": "StyleView",
            "description_width": ""
          }
        },
        "6806b011382c48e5bdef911c22c047d3": {
          "model_module": "@jupyter-widgets/controls",
          "model_name": "HBoxModel",
          "model_module_version": "1.5.0",
          "state": {
            "_dom_classes": [],
            "_model_module": "@jupyter-widgets/controls",
            "_model_module_version": "1.5.0",
            "_model_name": "HBoxModel",
            "_view_count": null,
            "_view_module": "@jupyter-widgets/controls",
            "_view_module_version": "1.5.0",
            "_view_name": "HBoxView",
            "box_style": "",
            "children": [
              "IPY_MODEL_3754917ba3f4487f892788b8945f3ec1",
              "IPY_MODEL_34b326bb2da542b2bb98257779ec939c",
              "IPY_MODEL_21d2948a7d2a4d26a1bb41b600f666ef"
            ],
            "layout": "IPY_MODEL_02f6f7d89e904784812906390ea8c16b"
          }
        },
        "3754917ba3f4487f892788b8945f3ec1": {
          "model_module": "@jupyter-widgets/controls",
          "model_name": "HTMLModel",
          "model_module_version": "1.5.0",
          "state": {
            "_dom_classes": [],
            "_model_module": "@jupyter-widgets/controls",
            "_model_module_version": "1.5.0",
            "_model_name": "HTMLModel",
            "_view_count": null,
            "_view_module": "@jupyter-widgets/controls",
            "_view_module_version": "1.5.0",
            "_view_name": "HTMLView",
            "description": "",
            "description_tooltip": null,
            "layout": "IPY_MODEL_27864aa1f39d45a68d6ce5238872e2eb",
            "placeholder": "​",
            "style": "IPY_MODEL_264ade3367474e8aadece119d242c58b",
            "value": "Resolving data files: 100%"
          }
        },
        "34b326bb2da542b2bb98257779ec939c": {
          "model_module": "@jupyter-widgets/controls",
          "model_name": "FloatProgressModel",
          "model_module_version": "1.5.0",
          "state": {
            "_dom_classes": [],
            "_model_module": "@jupyter-widgets/controls",
            "_model_module_version": "1.5.0",
            "_model_name": "FloatProgressModel",
            "_view_count": null,
            "_view_module": "@jupyter-widgets/controls",
            "_view_module_version": "1.5.0",
            "_view_name": "ProgressView",
            "bar_style": "success",
            "description": "",
            "description_tooltip": null,
            "layout": "IPY_MODEL_26d2b0a9725d48fdbe03465683849607",
            "max": 901,
            "min": 0,
            "orientation": "horizontal",
            "style": "IPY_MODEL_895c03766bf0408d8e27d1eac2d36d4f",
            "value": 901
          }
        },
        "21d2948a7d2a4d26a1bb41b600f666ef": {
          "model_module": "@jupyter-widgets/controls",
          "model_name": "HTMLModel",
          "model_module_version": "1.5.0",
          "state": {
            "_dom_classes": [],
            "_model_module": "@jupyter-widgets/controls",
            "_model_module_version": "1.5.0",
            "_model_name": "HTMLModel",
            "_view_count": null,
            "_view_module": "@jupyter-widgets/controls",
            "_view_module_version": "1.5.0",
            "_view_name": "HTMLView",
            "description": "",
            "description_tooltip": null,
            "layout": "IPY_MODEL_8cdde59361de43158329229c8c04d81c",
            "placeholder": "​",
            "style": "IPY_MODEL_3d30ef27514a45c1b272479467da2479",
            "value": " 901/901 [00:00&lt;00:00, 3027.11it/s]"
          }
        },
        "02f6f7d89e904784812906390ea8c16b": {
          "model_module": "@jupyter-widgets/base",
          "model_name": "LayoutModel",
          "model_module_version": "1.2.0",
          "state": {
            "_model_module": "@jupyter-widgets/base",
            "_model_module_version": "1.2.0",
            "_model_name": "LayoutModel",
            "_view_count": null,
            "_view_module": "@jupyter-widgets/base",
            "_view_module_version": "1.2.0",
            "_view_name": "LayoutView",
            "align_content": null,
            "align_items": null,
            "align_self": null,
            "border": null,
            "bottom": null,
            "display": null,
            "flex": null,
            "flex_flow": null,
            "grid_area": null,
            "grid_auto_columns": null,
            "grid_auto_flow": null,
            "grid_auto_rows": null,
            "grid_column": null,
            "grid_gap": null,
            "grid_row": null,
            "grid_template_areas": null,
            "grid_template_columns": null,
            "grid_template_rows": null,
            "height": null,
            "justify_content": null,
            "justify_items": null,
            "left": null,
            "margin": null,
            "max_height": null,
            "max_width": null,
            "min_height": null,
            "min_width": null,
            "object_fit": null,
            "object_position": null,
            "order": null,
            "overflow": null,
            "overflow_x": null,
            "overflow_y": null,
            "padding": null,
            "right": null,
            "top": null,
            "visibility": null,
            "width": null
          }
        },
        "27864aa1f39d45a68d6ce5238872e2eb": {
          "model_module": "@jupyter-widgets/base",
          "model_name": "LayoutModel",
          "model_module_version": "1.2.0",
          "state": {
            "_model_module": "@jupyter-widgets/base",
            "_model_module_version": "1.2.0",
            "_model_name": "LayoutModel",
            "_view_count": null,
            "_view_module": "@jupyter-widgets/base",
            "_view_module_version": "1.2.0",
            "_view_name": "LayoutView",
            "align_content": null,
            "align_items": null,
            "align_self": null,
            "border": null,
            "bottom": null,
            "display": null,
            "flex": null,
            "flex_flow": null,
            "grid_area": null,
            "grid_auto_columns": null,
            "grid_auto_flow": null,
            "grid_auto_rows": null,
            "grid_column": null,
            "grid_gap": null,
            "grid_row": null,
            "grid_template_areas": null,
            "grid_template_columns": null,
            "grid_template_rows": null,
            "height": null,
            "justify_content": null,
            "justify_items": null,
            "left": null,
            "margin": null,
            "max_height": null,
            "max_width": null,
            "min_height": null,
            "min_width": null,
            "object_fit": null,
            "object_position": null,
            "order": null,
            "overflow": null,
            "overflow_x": null,
            "overflow_y": null,
            "padding": null,
            "right": null,
            "top": null,
            "visibility": null,
            "width": null
          }
        },
        "264ade3367474e8aadece119d242c58b": {
          "model_module": "@jupyter-widgets/controls",
          "model_name": "DescriptionStyleModel",
          "model_module_version": "1.5.0",
          "state": {
            "_model_module": "@jupyter-widgets/controls",
            "_model_module_version": "1.5.0",
            "_model_name": "DescriptionStyleModel",
            "_view_count": null,
            "_view_module": "@jupyter-widgets/base",
            "_view_module_version": "1.2.0",
            "_view_name": "StyleView",
            "description_width": ""
          }
        },
        "26d2b0a9725d48fdbe03465683849607": {
          "model_module": "@jupyter-widgets/base",
          "model_name": "LayoutModel",
          "model_module_version": "1.2.0",
          "state": {
            "_model_module": "@jupyter-widgets/base",
            "_model_module_version": "1.2.0",
            "_model_name": "LayoutModel",
            "_view_count": null,
            "_view_module": "@jupyter-widgets/base",
            "_view_module_version": "1.2.0",
            "_view_name": "LayoutView",
            "align_content": null,
            "align_items": null,
            "align_self": null,
            "border": null,
            "bottom": null,
            "display": null,
            "flex": null,
            "flex_flow": null,
            "grid_area": null,
            "grid_auto_columns": null,
            "grid_auto_flow": null,
            "grid_auto_rows": null,
            "grid_column": null,
            "grid_gap": null,
            "grid_row": null,
            "grid_template_areas": null,
            "grid_template_columns": null,
            "grid_template_rows": null,
            "height": null,
            "justify_content": null,
            "justify_items": null,
            "left": null,
            "margin": null,
            "max_height": null,
            "max_width": null,
            "min_height": null,
            "min_width": null,
            "object_fit": null,
            "object_position": null,
            "order": null,
            "overflow": null,
            "overflow_x": null,
            "overflow_y": null,
            "padding": null,
            "right": null,
            "top": null,
            "visibility": null,
            "width": null
          }
        },
        "895c03766bf0408d8e27d1eac2d36d4f": {
          "model_module": "@jupyter-widgets/controls",
          "model_name": "ProgressStyleModel",
          "model_module_version": "1.5.0",
          "state": {
            "_model_module": "@jupyter-widgets/controls",
            "_model_module_version": "1.5.0",
            "_model_name": "ProgressStyleModel",
            "_view_count": null,
            "_view_module": "@jupyter-widgets/base",
            "_view_module_version": "1.2.0",
            "_view_name": "StyleView",
            "bar_color": null,
            "description_width": ""
          }
        },
        "8cdde59361de43158329229c8c04d81c": {
          "model_module": "@jupyter-widgets/base",
          "model_name": "LayoutModel",
          "model_module_version": "1.2.0",
          "state": {
            "_model_module": "@jupyter-widgets/base",
            "_model_module_version": "1.2.0",
            "_model_name": "LayoutModel",
            "_view_count": null,
            "_view_module": "@jupyter-widgets/base",
            "_view_module_version": "1.2.0",
            "_view_name": "LayoutView",
            "align_content": null,
            "align_items": null,
            "align_self": null,
            "border": null,
            "bottom": null,
            "display": null,
            "flex": null,
            "flex_flow": null,
            "grid_area": null,
            "grid_auto_columns": null,
            "grid_auto_flow": null,
            "grid_auto_rows": null,
            "grid_column": null,
            "grid_gap": null,
            "grid_row": null,
            "grid_template_areas": null,
            "grid_template_columns": null,
            "grid_template_rows": null,
            "height": null,
            "justify_content": null,
            "justify_items": null,
            "left": null,
            "margin": null,
            "max_height": null,
            "max_width": null,
            "min_height": null,
            "min_width": null,
            "object_fit": null,
            "object_position": null,
            "order": null,
            "overflow": null,
            "overflow_x": null,
            "overflow_y": null,
            "padding": null,
            "right": null,
            "top": null,
            "visibility": null,
            "width": null
          }
        },
        "3d30ef27514a45c1b272479467da2479": {
          "model_module": "@jupyter-widgets/controls",
          "model_name": "DescriptionStyleModel",
          "model_module_version": "1.5.0",
          "state": {
            "_model_module": "@jupyter-widgets/controls",
            "_model_module_version": "1.5.0",
            "_model_name": "DescriptionStyleModel",
            "_view_count": null,
            "_view_module": "@jupyter-widgets/base",
            "_view_module_version": "1.2.0",
            "_view_name": "StyleView",
            "description_width": ""
          }
        },
        "fe71352eb1c645cb9d0b963720966e25": {
          "model_module": "@jupyter-widgets/controls",
          "model_name": "HBoxModel",
          "model_module_version": "1.5.0",
          "state": {
            "_dom_classes": [],
            "_model_module": "@jupyter-widgets/controls",
            "_model_module_version": "1.5.0",
            "_model_name": "HBoxModel",
            "_view_count": null,
            "_view_module": "@jupyter-widgets/controls",
            "_view_module_version": "1.5.0",
            "_view_name": "HBoxView",
            "box_style": "",
            "children": [
              "IPY_MODEL_8287eccd56214b168cd481eb6b110811",
              "IPY_MODEL_88a7dbd4c6eb4f8587bc1327c54886f6",
              "IPY_MODEL_6bfd1f58bef7435690efdab9d789a0b0"
            ],
            "layout": "IPY_MODEL_ed5b5228654a448a953303331570f45a"
          }
        },
        "8287eccd56214b168cd481eb6b110811": {
          "model_module": "@jupyter-widgets/controls",
          "model_name": "HTMLModel",
          "model_module_version": "1.5.0",
          "state": {
            "_dom_classes": [],
            "_model_module": "@jupyter-widgets/controls",
            "_model_module_version": "1.5.0",
            "_model_name": "HTMLModel",
            "_view_count": null,
            "_view_module": "@jupyter-widgets/controls",
            "_view_module_version": "1.5.0",
            "_view_name": "HTMLView",
            "description": "",
            "description_tooltip": null,
            "layout": "IPY_MODEL_3327ca4826484a28a20fb1cb3785221a",
            "placeholder": "​",
            "style": "IPY_MODEL_59d7869d17fd4b4fb146d32c9f715752",
            "value": "Upload file runs/Apr19_09-12-19_11ec4160ba19/events.out.tfevents.1681895546.11ec4160ba19.151.9: 100%"
          }
        },
        "88a7dbd4c6eb4f8587bc1327c54886f6": {
          "model_module": "@jupyter-widgets/controls",
          "model_name": "FloatProgressModel",
          "model_module_version": "1.5.0",
          "state": {
            "_dom_classes": [],
            "_model_module": "@jupyter-widgets/controls",
            "_model_module_version": "1.5.0",
            "_model_name": "FloatProgressModel",
            "_view_count": null,
            "_view_module": "@jupyter-widgets/controls",
            "_view_module_version": "1.5.0",
            "_view_name": "ProgressView",
            "bar_style": "success",
            "description": "",
            "description_tooltip": null,
            "layout": "IPY_MODEL_6804d3e87f25431dbd7a67d6d09ce4b9",
            "max": 50003,
            "min": 0,
            "orientation": "horizontal",
            "style": "IPY_MODEL_1b78848e516741bcbb265c68f188baf1",
            "value": 50003
          }
        },
        "6bfd1f58bef7435690efdab9d789a0b0": {
          "model_module": "@jupyter-widgets/controls",
          "model_name": "HTMLModel",
          "model_module_version": "1.5.0",
          "state": {
            "_dom_classes": [],
            "_model_module": "@jupyter-widgets/controls",
            "_model_module_version": "1.5.0",
            "_model_name": "HTMLModel",
            "_view_count": null,
            "_view_module": "@jupyter-widgets/controls",
            "_view_module_version": "1.5.0",
            "_view_name": "HTMLView",
            "description": "",
            "description_tooltip": null,
            "layout": "IPY_MODEL_ee8ec178d7b442d4b523c1c769bc44e2",
            "placeholder": "​",
            "style": "IPY_MODEL_4127320ab6d0449da4d65d153f35d140",
            "value": " 48.8k/48.8k [00:02&lt;00:00, 7.85MB/s]"
          }
        },
        "ed5b5228654a448a953303331570f45a": {
          "model_module": "@jupyter-widgets/base",
          "model_name": "LayoutModel",
          "model_module_version": "1.2.0",
          "state": {
            "_model_module": "@jupyter-widgets/base",
            "_model_module_version": "1.2.0",
            "_model_name": "LayoutModel",
            "_view_count": null,
            "_view_module": "@jupyter-widgets/base",
            "_view_module_version": "1.2.0",
            "_view_name": "LayoutView",
            "align_content": null,
            "align_items": null,
            "align_self": null,
            "border": null,
            "bottom": null,
            "display": null,
            "flex": null,
            "flex_flow": null,
            "grid_area": null,
            "grid_auto_columns": null,
            "grid_auto_flow": null,
            "grid_auto_rows": null,
            "grid_column": null,
            "grid_gap": null,
            "grid_row": null,
            "grid_template_areas": null,
            "grid_template_columns": null,
            "grid_template_rows": null,
            "height": null,
            "justify_content": null,
            "justify_items": null,
            "left": null,
            "margin": null,
            "max_height": null,
            "max_width": null,
            "min_height": null,
            "min_width": null,
            "object_fit": null,
            "object_position": null,
            "order": null,
            "overflow": null,
            "overflow_x": null,
            "overflow_y": null,
            "padding": null,
            "right": null,
            "top": null,
            "visibility": null,
            "width": null
          }
        },
        "3327ca4826484a28a20fb1cb3785221a": {
          "model_module": "@jupyter-widgets/base",
          "model_name": "LayoutModel",
          "model_module_version": "1.2.0",
          "state": {
            "_model_module": "@jupyter-widgets/base",
            "_model_module_version": "1.2.0",
            "_model_name": "LayoutModel",
            "_view_count": null,
            "_view_module": "@jupyter-widgets/base",
            "_view_module_version": "1.2.0",
            "_view_name": "LayoutView",
            "align_content": null,
            "align_items": null,
            "align_self": null,
            "border": null,
            "bottom": null,
            "display": null,
            "flex": null,
            "flex_flow": null,
            "grid_area": null,
            "grid_auto_columns": null,
            "grid_auto_flow": null,
            "grid_auto_rows": null,
            "grid_column": null,
            "grid_gap": null,
            "grid_row": null,
            "grid_template_areas": null,
            "grid_template_columns": null,
            "grid_template_rows": null,
            "height": null,
            "justify_content": null,
            "justify_items": null,
            "left": null,
            "margin": null,
            "max_height": null,
            "max_width": null,
            "min_height": null,
            "min_width": null,
            "object_fit": null,
            "object_position": null,
            "order": null,
            "overflow": null,
            "overflow_x": null,
            "overflow_y": null,
            "padding": null,
            "right": null,
            "top": null,
            "visibility": null,
            "width": null
          }
        },
        "59d7869d17fd4b4fb146d32c9f715752": {
          "model_module": "@jupyter-widgets/controls",
          "model_name": "DescriptionStyleModel",
          "model_module_version": "1.5.0",
          "state": {
            "_model_module": "@jupyter-widgets/controls",
            "_model_module_version": "1.5.0",
            "_model_name": "DescriptionStyleModel",
            "_view_count": null,
            "_view_module": "@jupyter-widgets/base",
            "_view_module_version": "1.2.0",
            "_view_name": "StyleView",
            "description_width": ""
          }
        },
        "6804d3e87f25431dbd7a67d6d09ce4b9": {
          "model_module": "@jupyter-widgets/base",
          "model_name": "LayoutModel",
          "model_module_version": "1.2.0",
          "state": {
            "_model_module": "@jupyter-widgets/base",
            "_model_module_version": "1.2.0",
            "_model_name": "LayoutModel",
            "_view_count": null,
            "_view_module": "@jupyter-widgets/base",
            "_view_module_version": "1.2.0",
            "_view_name": "LayoutView",
            "align_content": null,
            "align_items": null,
            "align_self": null,
            "border": null,
            "bottom": null,
            "display": null,
            "flex": null,
            "flex_flow": null,
            "grid_area": null,
            "grid_auto_columns": null,
            "grid_auto_flow": null,
            "grid_auto_rows": null,
            "grid_column": null,
            "grid_gap": null,
            "grid_row": null,
            "grid_template_areas": null,
            "grid_template_columns": null,
            "grid_template_rows": null,
            "height": null,
            "justify_content": null,
            "justify_items": null,
            "left": null,
            "margin": null,
            "max_height": null,
            "max_width": null,
            "min_height": null,
            "min_width": null,
            "object_fit": null,
            "object_position": null,
            "order": null,
            "overflow": null,
            "overflow_x": null,
            "overflow_y": null,
            "padding": null,
            "right": null,
            "top": null,
            "visibility": null,
            "width": null
          }
        },
        "1b78848e516741bcbb265c68f188baf1": {
          "model_module": "@jupyter-widgets/controls",
          "model_name": "ProgressStyleModel",
          "model_module_version": "1.5.0",
          "state": {
            "_model_module": "@jupyter-widgets/controls",
            "_model_module_version": "1.5.0",
            "_model_name": "ProgressStyleModel",
            "_view_count": null,
            "_view_module": "@jupyter-widgets/base",
            "_view_module_version": "1.2.0",
            "_view_name": "StyleView",
            "bar_color": null,
            "description_width": ""
          }
        },
        "ee8ec178d7b442d4b523c1c769bc44e2": {
          "model_module": "@jupyter-widgets/base",
          "model_name": "LayoutModel",
          "model_module_version": "1.2.0",
          "state": {
            "_model_module": "@jupyter-widgets/base",
            "_model_module_version": "1.2.0",
            "_model_name": "LayoutModel",
            "_view_count": null,
            "_view_module": "@jupyter-widgets/base",
            "_view_module_version": "1.2.0",
            "_view_name": "LayoutView",
            "align_content": null,
            "align_items": null,
            "align_self": null,
            "border": null,
            "bottom": null,
            "display": null,
            "flex": null,
            "flex_flow": null,
            "grid_area": null,
            "grid_auto_columns": null,
            "grid_auto_flow": null,
            "grid_auto_rows": null,
            "grid_column": null,
            "grid_gap": null,
            "grid_row": null,
            "grid_template_areas": null,
            "grid_template_columns": null,
            "grid_template_rows": null,
            "height": null,
            "justify_content": null,
            "justify_items": null,
            "left": null,
            "margin": null,
            "max_height": null,
            "max_width": null,
            "min_height": null,
            "min_width": null,
            "object_fit": null,
            "object_position": null,
            "order": null,
            "overflow": null,
            "overflow_x": null,
            "overflow_y": null,
            "padding": null,
            "right": null,
            "top": null,
            "visibility": null,
            "width": null
          }
        },
        "4127320ab6d0449da4d65d153f35d140": {
          "model_module": "@jupyter-widgets/controls",
          "model_name": "DescriptionStyleModel",
          "model_module_version": "1.5.0",
          "state": {
            "_model_module": "@jupyter-widgets/controls",
            "_model_module_version": "1.5.0",
            "_model_name": "DescriptionStyleModel",
            "_view_count": null,
            "_view_module": "@jupyter-widgets/base",
            "_view_module_version": "1.2.0",
            "_view_name": "StyleView",
            "description_width": ""
          }
        },
        "65f0073800d249a7af01a361e3cf09a2": {
          "model_module": "@jupyter-widgets/controls",
          "model_name": "HBoxModel",
          "model_module_version": "1.5.0",
          "state": {
            "_dom_classes": [],
            "_model_module": "@jupyter-widgets/controls",
            "_model_module_version": "1.5.0",
            "_model_name": "HBoxModel",
            "_view_count": null,
            "_view_module": "@jupyter-widgets/controls",
            "_view_module_version": "1.5.0",
            "_view_name": "HBoxView",
            "box_style": "",
            "children": [
              "IPY_MODEL_ec44a4fe81264d099fa8744999f235c0",
              "IPY_MODEL_3ca97d510b9f4953b60325c90c47167c",
              "IPY_MODEL_c76b280cf8d341a187e947f651e993b3"
            ],
            "layout": "IPY_MODEL_5c79aa4f62a74a98af922d4069865209"
          }
        },
        "ec44a4fe81264d099fa8744999f235c0": {
          "model_module": "@jupyter-widgets/controls",
          "model_name": "HTMLModel",
          "model_module_version": "1.5.0",
          "state": {
            "_dom_classes": [],
            "_model_module": "@jupyter-widgets/controls",
            "_model_module_version": "1.5.0",
            "_model_name": "HTMLModel",
            "_view_count": null,
            "_view_module": "@jupyter-widgets/controls",
            "_view_module_version": "1.5.0",
            "_view_name": "HTMLView",
            "description": "",
            "description_tooltip": null,
            "layout": "IPY_MODEL_346338473bac4cfeb18f9b7aed6ff1a4",
            "placeholder": "​",
            "style": "IPY_MODEL_1590a7fd05384359916185c2fe40373c",
            "value": "Upload file runs/Apr19_09-12-19_11ec4160ba19/events.out.tfevents.1681898460.11ec4160ba19.151.11: 100%"
          }
        },
        "3ca97d510b9f4953b60325c90c47167c": {
          "model_module": "@jupyter-widgets/controls",
          "model_name": "FloatProgressModel",
          "model_module_version": "1.5.0",
          "state": {
            "_dom_classes": [],
            "_model_module": "@jupyter-widgets/controls",
            "_model_module_version": "1.5.0",
            "_model_name": "FloatProgressModel",
            "_view_count": null,
            "_view_module": "@jupyter-widgets/controls",
            "_view_module_version": "1.5.0",
            "_view_name": "ProgressView",
            "bar_style": "success",
            "description": "",
            "description_tooltip": null,
            "layout": "IPY_MODEL_8cfdc44bd17847d4b2288af00fdbb3ad",
            "max": 411,
            "min": 0,
            "orientation": "horizontal",
            "style": "IPY_MODEL_74321da4781543908022ba32236491a6",
            "value": 411
          }
        },
        "c76b280cf8d341a187e947f651e993b3": {
          "model_module": "@jupyter-widgets/controls",
          "model_name": "HTMLModel",
          "model_module_version": "1.5.0",
          "state": {
            "_dom_classes": [],
            "_model_module": "@jupyter-widgets/controls",
            "_model_module_version": "1.5.0",
            "_model_name": "HTMLModel",
            "_view_count": null,
            "_view_module": "@jupyter-widgets/controls",
            "_view_module_version": "1.5.0",
            "_view_name": "HTMLView",
            "description": "",
            "description_tooltip": null,
            "layout": "IPY_MODEL_970786b8263946a7859dc3ebdb528020",
            "placeholder": "​",
            "style": "IPY_MODEL_56070c1a69874fa7a51a2d3de4a0908f",
            "value": " 411/411 [00:02&lt;00:00, 7.90MB/s]"
          }
        },
        "5c79aa4f62a74a98af922d4069865209": {
          "model_module": "@jupyter-widgets/base",
          "model_name": "LayoutModel",
          "model_module_version": "1.2.0",
          "state": {
            "_model_module": "@jupyter-widgets/base",
            "_model_module_version": "1.2.0",
            "_model_name": "LayoutModel",
            "_view_count": null,
            "_view_module": "@jupyter-widgets/base",
            "_view_module_version": "1.2.0",
            "_view_name": "LayoutView",
            "align_content": null,
            "align_items": null,
            "align_self": null,
            "border": null,
            "bottom": null,
            "display": null,
            "flex": null,
            "flex_flow": null,
            "grid_area": null,
            "grid_auto_columns": null,
            "grid_auto_flow": null,
            "grid_auto_rows": null,
            "grid_column": null,
            "grid_gap": null,
            "grid_row": null,
            "grid_template_areas": null,
            "grid_template_columns": null,
            "grid_template_rows": null,
            "height": null,
            "justify_content": null,
            "justify_items": null,
            "left": null,
            "margin": null,
            "max_height": null,
            "max_width": null,
            "min_height": null,
            "min_width": null,
            "object_fit": null,
            "object_position": null,
            "order": null,
            "overflow": null,
            "overflow_x": null,
            "overflow_y": null,
            "padding": null,
            "right": null,
            "top": null,
            "visibility": null,
            "width": null
          }
        },
        "346338473bac4cfeb18f9b7aed6ff1a4": {
          "model_module": "@jupyter-widgets/base",
          "model_name": "LayoutModel",
          "model_module_version": "1.2.0",
          "state": {
            "_model_module": "@jupyter-widgets/base",
            "_model_module_version": "1.2.0",
            "_model_name": "LayoutModel",
            "_view_count": null,
            "_view_module": "@jupyter-widgets/base",
            "_view_module_version": "1.2.0",
            "_view_name": "LayoutView",
            "align_content": null,
            "align_items": null,
            "align_self": null,
            "border": null,
            "bottom": null,
            "display": null,
            "flex": null,
            "flex_flow": null,
            "grid_area": null,
            "grid_auto_columns": null,
            "grid_auto_flow": null,
            "grid_auto_rows": null,
            "grid_column": null,
            "grid_gap": null,
            "grid_row": null,
            "grid_template_areas": null,
            "grid_template_columns": null,
            "grid_template_rows": null,
            "height": null,
            "justify_content": null,
            "justify_items": null,
            "left": null,
            "margin": null,
            "max_height": null,
            "max_width": null,
            "min_height": null,
            "min_width": null,
            "object_fit": null,
            "object_position": null,
            "order": null,
            "overflow": null,
            "overflow_x": null,
            "overflow_y": null,
            "padding": null,
            "right": null,
            "top": null,
            "visibility": null,
            "width": null
          }
        },
        "1590a7fd05384359916185c2fe40373c": {
          "model_module": "@jupyter-widgets/controls",
          "model_name": "DescriptionStyleModel",
          "model_module_version": "1.5.0",
          "state": {
            "_model_module": "@jupyter-widgets/controls",
            "_model_module_version": "1.5.0",
            "_model_name": "DescriptionStyleModel",
            "_view_count": null,
            "_view_module": "@jupyter-widgets/base",
            "_view_module_version": "1.2.0",
            "_view_name": "StyleView",
            "description_width": ""
          }
        },
        "8cfdc44bd17847d4b2288af00fdbb3ad": {
          "model_module": "@jupyter-widgets/base",
          "model_name": "LayoutModel",
          "model_module_version": "1.2.0",
          "state": {
            "_model_module": "@jupyter-widgets/base",
            "_model_module_version": "1.2.0",
            "_model_name": "LayoutModel",
            "_view_count": null,
            "_view_module": "@jupyter-widgets/base",
            "_view_module_version": "1.2.0",
            "_view_name": "LayoutView",
            "align_content": null,
            "align_items": null,
            "align_self": null,
            "border": null,
            "bottom": null,
            "display": null,
            "flex": null,
            "flex_flow": null,
            "grid_area": null,
            "grid_auto_columns": null,
            "grid_auto_flow": null,
            "grid_auto_rows": null,
            "grid_column": null,
            "grid_gap": null,
            "grid_row": null,
            "grid_template_areas": null,
            "grid_template_columns": null,
            "grid_template_rows": null,
            "height": null,
            "justify_content": null,
            "justify_items": null,
            "left": null,
            "margin": null,
            "max_height": null,
            "max_width": null,
            "min_height": null,
            "min_width": null,
            "object_fit": null,
            "object_position": null,
            "order": null,
            "overflow": null,
            "overflow_x": null,
            "overflow_y": null,
            "padding": null,
            "right": null,
            "top": null,
            "visibility": null,
            "width": null
          }
        },
        "74321da4781543908022ba32236491a6": {
          "model_module": "@jupyter-widgets/controls",
          "model_name": "ProgressStyleModel",
          "model_module_version": "1.5.0",
          "state": {
            "_model_module": "@jupyter-widgets/controls",
            "_model_module_version": "1.5.0",
            "_model_name": "ProgressStyleModel",
            "_view_count": null,
            "_view_module": "@jupyter-widgets/base",
            "_view_module_version": "1.2.0",
            "_view_name": "StyleView",
            "bar_color": null,
            "description_width": ""
          }
        },
        "970786b8263946a7859dc3ebdb528020": {
          "model_module": "@jupyter-widgets/base",
          "model_name": "LayoutModel",
          "model_module_version": "1.2.0",
          "state": {
            "_model_module": "@jupyter-widgets/base",
            "_model_module_version": "1.2.0",
            "_model_name": "LayoutModel",
            "_view_count": null,
            "_view_module": "@jupyter-widgets/base",
            "_view_module_version": "1.2.0",
            "_view_name": "LayoutView",
            "align_content": null,
            "align_items": null,
            "align_self": null,
            "border": null,
            "bottom": null,
            "display": null,
            "flex": null,
            "flex_flow": null,
            "grid_area": null,
            "grid_auto_columns": null,
            "grid_auto_flow": null,
            "grid_auto_rows": null,
            "grid_column": null,
            "grid_gap": null,
            "grid_row": null,
            "grid_template_areas": null,
            "grid_template_columns": null,
            "grid_template_rows": null,
            "height": null,
            "justify_content": null,
            "justify_items": null,
            "left": null,
            "margin": null,
            "max_height": null,
            "max_width": null,
            "min_height": null,
            "min_width": null,
            "object_fit": null,
            "object_position": null,
            "order": null,
            "overflow": null,
            "overflow_x": null,
            "overflow_y": null,
            "padding": null,
            "right": null,
            "top": null,
            "visibility": null,
            "width": null
          }
        },
        "56070c1a69874fa7a51a2d3de4a0908f": {
          "model_module": "@jupyter-widgets/controls",
          "model_name": "DescriptionStyleModel",
          "model_module_version": "1.5.0",
          "state": {
            "_model_module": "@jupyter-widgets/controls",
            "_model_module_version": "1.5.0",
            "_model_name": "DescriptionStyleModel",
            "_view_count": null,
            "_view_module": "@jupyter-widgets/base",
            "_view_module_version": "1.2.0",
            "_view_name": "StyleView",
            "description_width": ""
          }
        }
      }
    }
  },
  "nbformat": 4,
  "nbformat_minor": 0
}